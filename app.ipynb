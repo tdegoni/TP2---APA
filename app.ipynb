{
 "cells": [
  {
   "cell_type": "code",
   "execution_count": null,
   "metadata": {},
   "outputs": [],
   "source": [
    "#%pip install streamlit"
   ]
  },
  {
   "cell_type": "code",
   "execution_count": null,
   "metadata": {},
   "outputs": [],
   "source": [
    "import streamlit as st\n",
    "import pickle\n",
    "import pandas as pd\n",
    "\n",
    "# Cargar el modelo\n",
    "with open('./Data/metadata.pkl', 'rb') as metadata_f:\n",
    "    metadata = pickle.load(metadata_f)\n",
    "\n",
    "with open('./Data/gower.pkl', 'rb') as gower_f:\n",
    "    gower = pickle.load(gower_f)\n",
    "\n",
    "def recommend_games(game_input,metadata_selected,gower_dist_matrix, n=5):\n",
    "\n",
    "    #Le paso el nombre del juego que tiene que si o si estar en meta (mi universo de juegos) y el n de recomendaciones. Default 4 \n",
    "\n",
    "    try:\n",
    "        # Buscar juegos cuyos nombres contengan la cadena de búsqueda en metadata_selected\n",
    "        matching_games = metadata_selected[metadata_selected['name'].str.contains(game_input, case=False)].copy()\n",
    "\n",
    "        if not matching_games.empty:\n",
    "            # Si el juego está en metadata_selected, obtener su índice\n",
    "            game_index = matching_games.index[0]\n",
    "            #print(game_index, metadata_selected[metadata_selected['name']==game_input],matching_games)\n",
    "\n",
    "            # Obtener los juegos más similares\n",
    "            similarity_score = list(enumerate(gower_dist_matrix[game_index]))\n",
    "            similarity_score = sorted(similarity_score, key=lambda x: x[1], reverse=False)\n",
    "            similarity_score = similarity_score[1:n]\n",
    "\n",
    "            # Retornar los nombres de los juegos utilizando el DataFrame meta\n",
    "            game_indices = [i[0] for i in similarity_score]\n",
    "            return metadata_selected[['name', 'price']].iloc[game_indices]\n",
    "\n",
    "        else:\n",
    "            print(\"Realizando una busqueda más amplia. Espere por favor.No se encontro su juego\")\n",
    "            \n",
    "    except IndexError:\n",
    "        # Si ocurre un IndexError, imprime un mensaje y devuelve None o un DataFrame vacío\n",
    "        print(f\"No se encontraron juegos que contengan '{game_input}'.\")\n",
    "        return None\n",
    "\n",
    "\n",
    "def main():\n",
    "    st.title('Streamlit App')\n",
    "\n",
    "    user_id = st.text_input('Ingrese el ID del usuario:', '')\n",
    "\n",
    "    if st.button('Predecir'):\n",
    "        if user_id:\n",
    "            user_id = int(user_id)\n",
    "            recomended = recommend_games(user_id)\n",
    "\n",
    "            # Formatear las predicciones\n",
    "            recomend_df = pd.DataFrame(recomended, columns=['Game', 'Price'])  \n",
    "\n",
    "            st.subheader('Recomendaciones:')\n",
    "            st.write(recomend_df)\n",
    "\n",
    "        else:\n",
    "            st.warning('Ingrese un ID de usuario válido.')\n",
    "\n",
    "if __name__ == '__main__':\n",
    "    main()"
   ]
  }
 ],
 "metadata": {
  "kernelspec": {
   "display_name": "itba_apa_env",
   "language": "python",
   "name": "python3"
  },
  "language_info": {
   "codemirror_mode": {
    "name": "ipython",
    "version": 3
   },
   "file_extension": ".py",
   "mimetype": "text/x-python",
   "name": "python",
   "nbconvert_exporter": "python",
   "pygments_lexer": "ipython3",
   "version": "3.8.17"
  }
 },
 "nbformat": 4,
 "nbformat_minor": 2
}
