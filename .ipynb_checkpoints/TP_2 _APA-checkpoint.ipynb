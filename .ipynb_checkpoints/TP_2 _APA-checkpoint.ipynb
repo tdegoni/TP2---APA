{
 "cells": [
  {
   "cell_type": "markdown",
   "id": "93f6795d",
   "metadata": {},
   "source": [
    "# Carga de datos\n",
    "Cargo los datos de las reviews, la metadata de todos los productos y los ratings de los usuarios.\n"
   ]
  },
  {
   "cell_type": "code",
   "execution_count": null,
   "id": "c13c0fbe",
   "metadata": {},
   "outputs": [],
   "source": [
    "import pandas as pd\n",
    "\n",
    "meta = pd.read_csv('./Data/steam.csv')\n",
    "\n",
    "ratings = pd.read_csv('./Data/steam-200k.csv', header=None, names=['user_id', 'name', 'purchase', 'hours','0'])\n",
    "\n",
    "ratings.head(10)"
   ]
  },
  {
   "cell_type": "code",
   "execution_count": 80,
   "id": "101aa363",
   "metadata": {},
   "outputs": [
    {
     "name": "stdout",
     "output_type": "stream",
     "text": [
      "<class 'pandas.core.frame.DataFrame'>\n",
      "Index: 70489 entries, 1 to 199999\n",
      "Data columns (total 5 columns):\n",
      " #   Column    Non-Null Count  Dtype  \n",
      "---  ------    --------------  -----  \n",
      " 0   user_id   70489 non-null  int64  \n",
      " 1   name      70489 non-null  object \n",
      " 2   purchase  70489 non-null  object \n",
      " 3   hours     70489 non-null  float64\n",
      " 4   0         70489 non-null  int64  \n",
      "dtypes: float64(1), int64(2), object(2)\n",
      "memory usage: 3.2+ MB\n"
     ]
    }
   ],
   "source": [
    "ratings.info()"
   ]
  },
  {
   "cell_type": "code",
   "execution_count": 38,
   "id": "13ee3cac",
   "metadata": {},
   "outputs": [
    {
     "name": "stdout",
     "output_type": "stream",
     "text": [
      "<class 'pandas.core.frame.DataFrame'>\n",
      "RangeIndex: 27075 entries, 0 to 27074\n",
      "Data columns (total 18 columns):\n",
      " #   Column            Non-Null Count  Dtype  \n",
      "---  ------            --------------  -----  \n",
      " 0   appid             27075 non-null  int64  \n",
      " 1   name              27075 non-null  object \n",
      " 2   release_date      27075 non-null  object \n",
      " 3   english           27075 non-null  int64  \n",
      " 4   developer         27074 non-null  object \n",
      " 5   publisher         27061 non-null  object \n",
      " 6   platforms         27075 non-null  object \n",
      " 7   required_age      27075 non-null  int64  \n",
      " 8   categories        27075 non-null  object \n",
      " 9   genres            27075 non-null  object \n",
      " 10  steamspy_tags     27075 non-null  object \n",
      " 11  achievements      27075 non-null  int64  \n",
      " 12  positive_ratings  27075 non-null  int64  \n",
      " 13  negative_ratings  27075 non-null  int64  \n",
      " 14  average_playtime  27075 non-null  int64  \n",
      " 15  median_playtime   27075 non-null  int64  \n",
      " 16  owners            27075 non-null  object \n",
      " 17  price             27075 non-null  float64\n",
      "dtypes: float64(1), int64(8), object(9)\n",
      "memory usage: 3.7+ MB\n"
     ]
    }
   ],
   "source": [
    "meta.info()"
   ]
  },
  {
   "cell_type": "code",
   "execution_count": 124,
   "id": "993a9ef5",
   "metadata": {},
   "outputs": [
    {
     "ename": "AttributeError",
     "evalue": "Can only use .str accessor with string values!",
     "output_type": "error",
     "traceback": [
      "\u001b[1;31m---------------------------------------------------------------------------\u001b[0m",
      "\u001b[1;31mAttributeError\u001b[0m                            Traceback (most recent call last)",
      "Cell \u001b[1;32mIn[124], line 2\u001b[0m\n\u001b[0;32m      1\u001b[0m \u001b[38;5;66;03m# Divide las categorías en la columna 'genres'\u001b[39;00m\n\u001b[1;32m----> 2\u001b[0m meta[\u001b[38;5;124m'\u001b[39m\u001b[38;5;124mgenres\u001b[39m\u001b[38;5;124m'\u001b[39m] \u001b[38;5;241m=\u001b[39m \u001b[43mmeta\u001b[49m\u001b[43m[\u001b[49m\u001b[38;5;124;43m'\u001b[39;49m\u001b[38;5;124;43mgenres\u001b[39;49m\u001b[38;5;124;43m'\u001b[39;49m\u001b[43m]\u001b[49m\u001b[38;5;241;43m.\u001b[39;49m\u001b[43mstr\u001b[49m\u001b[38;5;241m.\u001b[39msplit(\u001b[38;5;124m'\u001b[39m\u001b[38;5;124m;\u001b[39m\u001b[38;5;124m'\u001b[39m)\n\u001b[0;32m      4\u001b[0m \u001b[38;5;66;03m# Expande las categorías en nuevas columnas binarias\u001b[39;00m\n\u001b[0;32m      5\u001b[0m genres_expanded \u001b[38;5;241m=\u001b[39m meta[\u001b[38;5;124m'\u001b[39m\u001b[38;5;124mgenres\u001b[39m\u001b[38;5;124m'\u001b[39m]\u001b[38;5;241m.\u001b[39mexplode()\u001b[38;5;241m.\u001b[39mstr\u001b[38;5;241m.\u001b[39mget_dummies()\n",
      "File \u001b[1;32m~\\miniconda3\\envs\\itba_apa_env\\lib\\site-packages\\pandas\\core\\generic.py:5989\u001b[0m, in \u001b[0;36mNDFrame.__getattr__\u001b[1;34m(self, name)\u001b[0m\n\u001b[0;32m   5982\u001b[0m \u001b[38;5;28;01mif\u001b[39;00m (\n\u001b[0;32m   5983\u001b[0m     name \u001b[38;5;129;01mnot\u001b[39;00m \u001b[38;5;129;01min\u001b[39;00m \u001b[38;5;28mself\u001b[39m\u001b[38;5;241m.\u001b[39m_internal_names_set\n\u001b[0;32m   5984\u001b[0m     \u001b[38;5;129;01mand\u001b[39;00m name \u001b[38;5;129;01mnot\u001b[39;00m \u001b[38;5;129;01min\u001b[39;00m \u001b[38;5;28mself\u001b[39m\u001b[38;5;241m.\u001b[39m_metadata\n\u001b[0;32m   5985\u001b[0m     \u001b[38;5;129;01mand\u001b[39;00m name \u001b[38;5;129;01mnot\u001b[39;00m \u001b[38;5;129;01min\u001b[39;00m \u001b[38;5;28mself\u001b[39m\u001b[38;5;241m.\u001b[39m_accessors\n\u001b[0;32m   5986\u001b[0m     \u001b[38;5;129;01mand\u001b[39;00m \u001b[38;5;28mself\u001b[39m\u001b[38;5;241m.\u001b[39m_info_axis\u001b[38;5;241m.\u001b[39m_can_hold_identifiers_and_holds_name(name)\n\u001b[0;32m   5987\u001b[0m ):\n\u001b[0;32m   5988\u001b[0m     \u001b[38;5;28;01mreturn\u001b[39;00m \u001b[38;5;28mself\u001b[39m[name]\n\u001b[1;32m-> 5989\u001b[0m \u001b[38;5;28;01mreturn\u001b[39;00m \u001b[38;5;28;43mobject\u001b[39;49m\u001b[38;5;241;43m.\u001b[39;49m\u001b[38;5;21;43m__getattribute__\u001b[39;49m\u001b[43m(\u001b[49m\u001b[38;5;28;43mself\u001b[39;49m\u001b[43m,\u001b[49m\u001b[43m \u001b[49m\u001b[43mname\u001b[49m\u001b[43m)\u001b[49m\n",
      "File \u001b[1;32m~\\miniconda3\\envs\\itba_apa_env\\lib\\site-packages\\pandas\\core\\accessor.py:224\u001b[0m, in \u001b[0;36mCachedAccessor.__get__\u001b[1;34m(self, obj, cls)\u001b[0m\n\u001b[0;32m    221\u001b[0m \u001b[38;5;28;01mif\u001b[39;00m obj \u001b[38;5;129;01mis\u001b[39;00m \u001b[38;5;28;01mNone\u001b[39;00m:\n\u001b[0;32m    222\u001b[0m     \u001b[38;5;66;03m# we're accessing the attribute of the class, i.e., Dataset.geo\u001b[39;00m\n\u001b[0;32m    223\u001b[0m     \u001b[38;5;28;01mreturn\u001b[39;00m \u001b[38;5;28mself\u001b[39m\u001b[38;5;241m.\u001b[39m_accessor\n\u001b[1;32m--> 224\u001b[0m accessor_obj \u001b[38;5;241m=\u001b[39m \u001b[38;5;28;43mself\u001b[39;49m\u001b[38;5;241;43m.\u001b[39;49m\u001b[43m_accessor\u001b[49m\u001b[43m(\u001b[49m\u001b[43mobj\u001b[49m\u001b[43m)\u001b[49m\n\u001b[0;32m    225\u001b[0m \u001b[38;5;66;03m# Replace the property with the accessor object. Inspired by:\u001b[39;00m\n\u001b[0;32m    226\u001b[0m \u001b[38;5;66;03m# https://www.pydanny.com/cached-property.html\u001b[39;00m\n\u001b[0;32m    227\u001b[0m \u001b[38;5;66;03m# We need to use object.__setattr__ because we overwrite __setattr__ on\u001b[39;00m\n\u001b[0;32m    228\u001b[0m \u001b[38;5;66;03m# NDFrame\u001b[39;00m\n\u001b[0;32m    229\u001b[0m \u001b[38;5;28mobject\u001b[39m\u001b[38;5;241m.\u001b[39m\u001b[38;5;21m__setattr__\u001b[39m(obj, \u001b[38;5;28mself\u001b[39m\u001b[38;5;241m.\u001b[39m_name, accessor_obj)\n",
      "File \u001b[1;32m~\\miniconda3\\envs\\itba_apa_env\\lib\\site-packages\\pandas\\core\\strings\\accessor.py:181\u001b[0m, in \u001b[0;36mStringMethods.__init__\u001b[1;34m(self, data)\u001b[0m\n\u001b[0;32m    178\u001b[0m \u001b[38;5;28;01mdef\u001b[39;00m \u001b[38;5;21m__init__\u001b[39m(\u001b[38;5;28mself\u001b[39m, data) \u001b[38;5;241m-\u001b[39m\u001b[38;5;241m>\u001b[39m \u001b[38;5;28;01mNone\u001b[39;00m:\n\u001b[0;32m    179\u001b[0m     \u001b[38;5;28;01mfrom\u001b[39;00m \u001b[38;5;21;01mpandas\u001b[39;00m\u001b[38;5;21;01m.\u001b[39;00m\u001b[38;5;21;01mcore\u001b[39;00m\u001b[38;5;21;01m.\u001b[39;00m\u001b[38;5;21;01marrays\u001b[39;00m\u001b[38;5;21;01m.\u001b[39;00m\u001b[38;5;21;01mstring_\u001b[39;00m \u001b[38;5;28;01mimport\u001b[39;00m StringDtype\n\u001b[1;32m--> 181\u001b[0m     \u001b[38;5;28mself\u001b[39m\u001b[38;5;241m.\u001b[39m_inferred_dtype \u001b[38;5;241m=\u001b[39m \u001b[38;5;28;43mself\u001b[39;49m\u001b[38;5;241;43m.\u001b[39;49m\u001b[43m_validate\u001b[49m\u001b[43m(\u001b[49m\u001b[43mdata\u001b[49m\u001b[43m)\u001b[49m\n\u001b[0;32m    182\u001b[0m     \u001b[38;5;28mself\u001b[39m\u001b[38;5;241m.\u001b[39m_is_categorical \u001b[38;5;241m=\u001b[39m is_categorical_dtype(data\u001b[38;5;241m.\u001b[39mdtype)\n\u001b[0;32m    183\u001b[0m     \u001b[38;5;28mself\u001b[39m\u001b[38;5;241m.\u001b[39m_is_string \u001b[38;5;241m=\u001b[39m \u001b[38;5;28misinstance\u001b[39m(data\u001b[38;5;241m.\u001b[39mdtype, StringDtype)\n",
      "File \u001b[1;32m~\\miniconda3\\envs\\itba_apa_env\\lib\\site-packages\\pandas\\core\\strings\\accessor.py:235\u001b[0m, in \u001b[0;36mStringMethods._validate\u001b[1;34m(data)\u001b[0m\n\u001b[0;32m    232\u001b[0m inferred_dtype \u001b[38;5;241m=\u001b[39m lib\u001b[38;5;241m.\u001b[39minfer_dtype(values, skipna\u001b[38;5;241m=\u001b[39m\u001b[38;5;28;01mTrue\u001b[39;00m)\n\u001b[0;32m    234\u001b[0m \u001b[38;5;28;01mif\u001b[39;00m inferred_dtype \u001b[38;5;129;01mnot\u001b[39;00m \u001b[38;5;129;01min\u001b[39;00m allowed_types:\n\u001b[1;32m--> 235\u001b[0m     \u001b[38;5;28;01mraise\u001b[39;00m \u001b[38;5;167;01mAttributeError\u001b[39;00m(\u001b[38;5;124m\"\u001b[39m\u001b[38;5;124mCan only use .str accessor with string values!\u001b[39m\u001b[38;5;124m\"\u001b[39m)\n\u001b[0;32m    236\u001b[0m \u001b[38;5;28;01mreturn\u001b[39;00m inferred_dtype\n",
      "\u001b[1;31mAttributeError\u001b[0m: Can only use .str accessor with string values!"
     ]
    }
   ],
   "source": [
    "# Divide las categorías en la columna 'genres'\n",
    "meta['genres'] = meta['genres'].str.split(';')\n",
    "\n",
    "# Expande las categorías en nuevas columnas binarias\n",
    "genres_expanded = meta['genres'].explode().str.get_dummies()\n",
    "\n",
    "# Concatena las nuevas columnas binarias al DataFrame original\n",
    "meta = pd.concat([meta, genres_expanded], axis=1)\n",
    "\n",
    "# Rellena los valores nulos con 0\n",
    "meta = meta.fillna(0)\n"
   ]
  },
  {
   "cell_type": "code",
   "execution_count": 125,
   "id": "987ee470",
   "metadata": {},
   "outputs": [
    {
     "data": {
      "text/plain": [
       "Index(['appid', 'name', 'release_date', 'english', 'developer', 'publisher',\n",
       "       'platforms', 'required_age', 'categories', 'genres', 'steamspy_tags',\n",
       "       'achievements', 'positive_ratings', 'negative_ratings',\n",
       "       'average_playtime', 'median_playtime', 'owners', 'price', 'Accounting',\n",
       "       'Action', 'Adventure', 'Animation & Modeling', 'Audio Production',\n",
       "       'Casual', 'Design & Illustration', 'Documentary', 'Early Access',\n",
       "       'Education', 'Free to Play', 'Game Development', 'Gore', 'Indie',\n",
       "       'Massively Multiplayer', 'Nudity', 'Photo Editing', 'RPG', 'Racing',\n",
       "       'Sexual Content', 'Simulation', 'Software Training', 'Sports',\n",
       "       'Strategy', 'Tutorial', 'Utilities', 'Video Production', 'Violent',\n",
       "       'Web Publishing'],\n",
       "      dtype='object')"
      ]
     },
     "execution_count": 125,
     "metadata": {},
     "output_type": "execute_result"
    }
   ],
   "source": [
    "meta.columns"
   ]
  },
  {
   "cell_type": "code",
   "execution_count": 76,
   "id": "738ad7f7",
   "metadata": {},
   "outputs": [
    {
     "data": {
      "text/plain": [
       "user_id             36302\n",
       "name                36302\n",
       "purchase            36302\n",
       "hours               36302\n",
       "0                   36302\n",
       "appid               36302\n",
       "release_date        36302\n",
       "english             36302\n",
       "developer           36302\n",
       "publisher           36298\n",
       "platforms           36302\n",
       "required_age        36302\n",
       "categories          36302\n",
       "genres              36302\n",
       "steamspy_tags       36302\n",
       "achievements        36302\n",
       "positive_ratings    36302\n",
       "negative_ratings    36302\n",
       "average_playtime    36302\n",
       "median_playtime     36302\n",
       "owners              36302\n",
       "price               36302\n",
       "dtype: int64"
      ]
     },
     "execution_count": 76,
     "metadata": {},
     "output_type": "execute_result"
    }
   ],
   "source": [
    "a = pd.merge(ratings, meta, left_on='name', right_on='name', how='inner')\n",
    "a.count()"
   ]
  },
  {
   "cell_type": "code",
   "execution_count": 78,
   "id": "62425686",
   "metadata": {},
   "outputs": [
    {
     "name": "stdout",
     "output_type": "stream",
     "text": [
      "Collecting gower\n",
      "  Downloading gower-0.1.2-py3-none-any.whl (5.2 kB)\n",
      "Requirement already satisfied: numpy in c:\\users\\usuario\\miniconda3\\envs\\itba_apa_env\\lib\\site-packages (from gower) (1.23.5)\n",
      "Requirement already satisfied: scipy in c:\\users\\usuario\\miniconda3\\envs\\itba_apa_env\\lib\\site-packages (from gower) (1.10.1)\n",
      "Installing collected packages: gower\n",
      "Successfully installed gower-0.1.2\n",
      "Note: you may need to restart the kernel to use updated packages.\n"
     ]
    }
   ],
   "source": [
    "pip install gower"
   ]
  },
  {
   "cell_type": "code",
   "execution_count": 99,
   "id": "3bfe8c50",
   "metadata": {},
   "outputs": [],
   "source": [
    "from sklearn.preprocessing import MinMaxScaler\n",
    "\n",
    "# Variables numéricas para escalar\n",
    "numeric_cols_to_scale = ['positive_ratings', 'negative_ratings', 'average_playtime', 'median_playtime']\n",
    "\n",
    "# Aplicar Min-Max scaling a las variables numéricas seleccionadas\n",
    "scaler = MinMaxScaler()\n",
    "meta[numeric_cols_to_scale] = scaler.fit_transform(meta[numeric_cols_to_scale])\n"
   ]
  },
  {
   "cell_type": "code",
   "execution_count": 128,
   "id": "45c1d05f",
   "metadata": {},
   "outputs": [
    {
     "name": "stderr",
     "output_type": "stream",
     "text": [
      "C:\\Users\\Usuario\\miniconda3\\envs\\itba_apa_env\\lib\\site-packages\\gower\\gower_dist.py:51: RuntimeWarning: All-NaN slice encountered\n",
      "  max = np.nanmax(col_array)\n",
      "C:\\Users\\Usuario\\miniconda3\\envs\\itba_apa_env\\lib\\site-packages\\gower\\gower_dist.py:52: RuntimeWarning: All-NaN slice encountered\n",
      "  min = np.nanmin(col_array)\n"
     ]
    },
    {
     "ename": "MemoryError",
     "evalue": "Unable to allocate 21.8 GiB for an array with shape (76462, 76462) and data type float32",
     "output_type": "error",
     "traceback": [
      "\u001b[1;31m---------------------------------------------------------------------------\u001b[0m",
      "\u001b[1;31mMemoryError\u001b[0m                               Traceback (most recent call last)",
      "Cell \u001b[1;32mIn[128], line 20\u001b[0m\n\u001b[0;32m     16\u001b[0m metadata_selected \u001b[38;5;241m=\u001b[39m meta[categorical_columns \u001b[38;5;241m+\u001b[39m numeric_columns]\n\u001b[0;32m     19\u001b[0m \u001b[38;5;66;03m# Calcular la matriz de distancias de Gower\u001b[39;00m\n\u001b[1;32m---> 20\u001b[0m gower_dist_matrix \u001b[38;5;241m=\u001b[39m \u001b[43mgower_matrix\u001b[49m\u001b[43m(\u001b[49m\u001b[43mmetadata_selected\u001b[49m\u001b[43m)\u001b[49m\n\u001b[0;32m     22\u001b[0m \u001b[38;5;66;03m# Convertir la matriz de distancias a un DataFrame\u001b[39;00m\n\u001b[0;32m     23\u001b[0m gower_dist_df \u001b[38;5;241m=\u001b[39m pd\u001b[38;5;241m.\u001b[39mDataFrame(gower_dist_matrix, columns\u001b[38;5;241m=\u001b[39mmetadata_selected\u001b[38;5;241m.\u001b[39mindex, index\u001b[38;5;241m=\u001b[39mmetadata_selected\u001b[38;5;241m.\u001b[39mindex)\n",
      "File \u001b[1;32m~\\miniconda3\\envs\\itba_apa_env\\lib\\site-packages\\gower\\gower_dist.py:73\u001b[0m, in \u001b[0;36mgower_matrix\u001b[1;34m(data_x, data_y, weight, cat_features)\u001b[0m\n\u001b[0;32m     70\u001b[0m weight_cat\u001b[38;5;241m=\u001b[39mweight[cat_features]\n\u001b[0;32m     71\u001b[0m weight_num\u001b[38;5;241m=\u001b[39mweight[np\u001b[38;5;241m.\u001b[39mlogical_not(cat_features)]   \n\u001b[1;32m---> 73\u001b[0m out \u001b[38;5;241m=\u001b[39m \u001b[43mnp\u001b[49m\u001b[38;5;241;43m.\u001b[39;49m\u001b[43mzeros\u001b[49m\u001b[43m(\u001b[49m\u001b[43m(\u001b[49m\u001b[43mx_n_rows\u001b[49m\u001b[43m,\u001b[49m\u001b[43m \u001b[49m\u001b[43my_n_rows\u001b[49m\u001b[43m)\u001b[49m\u001b[43m,\u001b[49m\u001b[43m \u001b[49m\u001b[43mdtype\u001b[49m\u001b[38;5;241;43m=\u001b[39;49m\u001b[43mnp\u001b[49m\u001b[38;5;241;43m.\u001b[39;49m\u001b[43mfloat32\u001b[49m\u001b[43m)\u001b[49m\n\u001b[0;32m     75\u001b[0m weight_sum \u001b[38;5;241m=\u001b[39m weight\u001b[38;5;241m.\u001b[39msum()\n\u001b[0;32m     77\u001b[0m X_cat \u001b[38;5;241m=\u001b[39m Z_cat[x_index,]\n",
      "\u001b[1;31mMemoryError\u001b[0m: Unable to allocate 21.8 GiB for an array with shape (76462, 76462) and data type float32"
     ]
    }
   ],
   "source": [
    "import pandas as pd\n",
    "from gower import gower_matrix\n",
    "\n",
    "# Lista de columnas categóricas\n",
    "categorical_columns = ['developer', 'publisher', 'platforms', 'categories', 'genres']\n",
    "                       #'Accounting','Action', 'Adventure','Casual', 'Documentary', 'Early Access',\n",
    "                       #'Education', 'Free to Play', 'Gore', 'Indie','Massively Multiplayer', 'RPG', 'Racing',\n",
    "                       #'Sexual Content', 'Simulation', 'Software Training', 'Sports',\n",
    "                       #'Strategy', 'Violent']\n",
    "\n",
    "# Lista de columnas numéricas\n",
    "numeric_columns = ['required_age', 'achievements', 'positive_ratings', 'negative_ratings',\n",
    "                    'price']\n",
    "\n",
    "# Seleccionar solo las columnas que vas a utilizar\n",
    "metadata_selected = meta[categorical_columns + numeric_columns]\n",
    "\n",
    "\n",
    "# Calcular la matriz de distancias de Gower\n",
    "gower_dist_matrix = gower_matrix(metadata_selected)\n",
    "\n",
    "# Convertir la matriz de distancias a un DataFrame\n",
    "gower_dist_df = pd.DataFrame(gower_dist_matrix, columns=metadata_selected.index, index=metadata_selected.index)\n",
    "\n",
    "# Mostrar el DataFrame de distancias\n",
    "print(gower_dist_df)"
   ]
  },
  {
   "cell_type": "code",
   "execution_count": 91,
   "id": "0ac27b53",
   "metadata": {},
   "outputs": [
    {
     "name": "stdout",
     "output_type": "stream",
     "text": [
      "Collecting fuzzywuzzyNote: you may need to restart the kernel to use updated packages.\n",
      "\n",
      "  Downloading fuzzywuzzy-0.18.0-py2.py3-none-any.whl (18 kB)\n",
      "Installing collected packages: fuzzywuzzy\n",
      "Successfully installed fuzzywuzzy-0.18.0\n"
     ]
    }
   ],
   "source": [
    "pip install fuzzywuzzy"
   ]
  },
  {
   "cell_type": "code",
   "execution_count": 106,
   "id": "1c4b6ccd",
   "metadata": {},
   "outputs": [],
   "source": [
    "from fuzzywuzzy import fuzz\n",
    "\n",
    "\n",
    "def recommend_games(game_input, n=15):\n",
    "    try:\n",
    "        # Busca juegos cuyos nombres contengan la cadena de búsqueda\n",
    "        matching_games = meta[meta['name'].str.contains(game_input, case=False)]\n",
    "\n",
    "        # Si no hay coincidencias, imprime un mensaje y devuelve None o un DataFrame vacío\n",
    "        if matching_games.empty:\n",
    "            print(f\"No se encontraron juegos que contengan '{game_input}'.\")\n",
    "            return None\n",
    "\n",
    "        # Calcula la similitud de la cadena de búsqueda con los nombres de los juegos\n",
    "        matching_games['similarity'] = matching_games['name'].apply(lambda x: fuzz.ratio(game_input.lower(), x.lower()))\n",
    "\n",
    "        # Encuentra el juego con la similitud más alta\n",
    "        best_match = matching_games.loc[matching_games['similarity'].idxmax()]\n",
    "\n",
    "        # Toma el índice del juego con la similitud más alta\n",
    "        game_index = best_match.name\n",
    "\n",
    "        # Obtiene los valores de similitud con los otros juegos\n",
    "        similarity_score = list(enumerate(gower_dist_matrix[game_index]))\n",
    "\n",
    "        # Ordena en orden descendente la puntuación de similitud con el juego de entrada respecto a los demás juegos\n",
    "        similarity_score = sorted(similarity_score, key=lambda x: x[1], reverse=True)\n",
    "\n",
    "        # Obtiene las puntuaciones de los 15 juegos más similares. Ignora el primer juego.\n",
    "        similarity_score = similarity_score[1:n]\n",
    "\n",
    "        # Retorna los nombres de los juegos utilizando el DataFrame meta\n",
    "        game_indices = [i[0] for i in similarity_score]\n",
    "\n",
    "        return meta[['name', 'price']].iloc[game_indices]\n",
    "\n",
    "    except IndexError:\n",
    "        # Si ocurre un IndexError, imprime un mensaje y devuelve None o un DataFrame vacío\n",
    "        print(f\"No se encontraron juegos que contengan '{game_input}'.\")\n",
    "        return None\n"
   ]
  },
  {
   "cell_type": "code",
   "execution_count": 116,
   "id": "17cd80db",
   "metadata": {},
   "outputs": [
    {
     "name": "stderr",
     "output_type": "stream",
     "text": [
      "C:\\Users\\Usuario\\AppData\\Local\\Temp\\ipykernel_15460\\1171015420.py:15: SettingWithCopyWarning: \n",
      "A value is trying to be set on a copy of a slice from a DataFrame.\n",
      "Try using .loc[row_indexer,col_indexer] = value instead\n",
      "\n",
      "See the caveats in the documentation: https://pandas.pydata.org/pandas-docs/stable/user_guide/indexing.html#returning-a-view-versus-a-copy\n",
      "  matching_games['similarity'] = matching_games['name'].apply(lambda x: fuzz.ratio(game_input.lower(), x.lower()))\n"
     ]
    },
    {
     "data": {
      "text/html": [
       "<div>\n",
       "<style scoped>\n",
       "    .dataframe tbody tr th:only-of-type {\n",
       "        vertical-align: middle;\n",
       "    }\n",
       "\n",
       "    .dataframe tbody tr th {\n",
       "        vertical-align: top;\n",
       "    }\n",
       "\n",
       "    .dataframe thead th {\n",
       "        text-align: right;\n",
       "    }\n",
       "</style>\n",
       "<table border=\"1\" class=\"dataframe\">\n",
       "  <thead>\n",
       "    <tr style=\"text-align: right;\">\n",
       "      <th></th>\n",
       "      <th>name</th>\n",
       "      <th>price</th>\n",
       "    </tr>\n",
       "  </thead>\n",
       "  <tbody>\n",
       "    <tr>\n",
       "      <th>12604</th>\n",
       "      <td>LOGistICAL</td>\n",
       "      <td>6.99</td>\n",
       "    </tr>\n",
       "    <tr>\n",
       "      <th>21105</th>\n",
       "      <td>ADR-Labelling Game</td>\n",
       "      <td>421.99</td>\n",
       "    </tr>\n",
       "    <tr>\n",
       "      <th>25</th>\n",
       "      <td>Counter-Strike: Global Offensive</td>\n",
       "      <td>0.00</td>\n",
       "    </tr>\n",
       "    <tr>\n",
       "      <th>13062</th>\n",
       "      <td>GameMaker Studio 2 UWP</td>\n",
       "      <td>303.99</td>\n",
       "    </tr>\n",
       "    <tr>\n",
       "      <th>21697</th>\n",
       "      <td>#Have A Sticker</td>\n",
       "      <td>0.00</td>\n",
       "    </tr>\n",
       "    <tr>\n",
       "      <th>19116</th>\n",
       "      <td>Dracula's Library 2</td>\n",
       "      <td>0.79</td>\n",
       "    </tr>\n",
       "    <tr>\n",
       "      <th>20989</th>\n",
       "      <td>Eternal Man: Mountain</td>\n",
       "      <td>0.79</td>\n",
       "    </tr>\n",
       "    <tr>\n",
       "      <th>22306</th>\n",
       "      <td>USA 2020</td>\n",
       "      <td>0.79</td>\n",
       "    </tr>\n",
       "    <tr>\n",
       "      <th>21982</th>\n",
       "      <td>Achievement Idler: Red</td>\n",
       "      <td>0.79</td>\n",
       "    </tr>\n",
       "    <tr>\n",
       "      <th>17289</th>\n",
       "      <td>Chevo Lurker: Exodus</td>\n",
       "      <td>0.79</td>\n",
       "    </tr>\n",
       "    <tr>\n",
       "      <th>18208</th>\n",
       "      <td>Now Man Flies</td>\n",
       "      <td>0.79</td>\n",
       "    </tr>\n",
       "    <tr>\n",
       "      <th>19802</th>\n",
       "      <td>Trials of The Illuminati: Women of Beauty Jigsaws</td>\n",
       "      <td>0.79</td>\n",
       "    </tr>\n",
       "    <tr>\n",
       "      <th>19770</th>\n",
       "      <td>Trials of The Illuminati: Assorted Jigsaws</td>\n",
       "      <td>0.79</td>\n",
       "    </tr>\n",
       "    <tr>\n",
       "      <th>20548</th>\n",
       "      <td>Star Shield Down</td>\n",
       "      <td>0.79</td>\n",
       "    </tr>\n",
       "  </tbody>\n",
       "</table>\n",
       "</div>"
      ],
      "text/plain": [
       "                                                    name   price\n",
       "12604                                         LOGistICAL    6.99\n",
       "21105                                 ADR-Labelling Game  421.99\n",
       "25                      Counter-Strike: Global Offensive    0.00\n",
       "13062                             GameMaker Studio 2 UWP  303.99\n",
       "21697                                    #Have A Sticker    0.00\n",
       "19116                                Dracula's Library 2    0.79\n",
       "20989                              Eternal Man: Mountain    0.79\n",
       "22306                                           USA 2020    0.79\n",
       "21982                             Achievement Idler: Red    0.79\n",
       "17289                               Chevo Lurker: Exodus    0.79\n",
       "18208                                      Now Man Flies    0.79\n",
       "19802  Trials of The Illuminati: Women of Beauty Jigsaws    0.79\n",
       "19770         Trials of The Illuminati: Assorted Jigsaws    0.79\n",
       "20548                                   Star Shield Down    0.79"
      ]
     },
     "execution_count": 116,
     "metadata": {},
     "output_type": "execute_result"
    }
   ],
   "source": [
    "recommend_games('Bioshock')"
   ]
  },
  {
   "cell_type": "markdown",
   "id": "9e3586ed",
   "metadata": {},
   "source": [
    "# Preprocessing\n",
    "\n",
    "Hay que analizar los df y crear mi matriz de item-usuario para poder crear el algoritmo de filtro colaborativo."
   ]
  },
  {
   "cell_type": "code",
   "execution_count": 44,
   "id": "e052dcc2",
   "metadata": {},
   "outputs": [
    {
     "data": {
      "text/plain": [
       "<bound method Series.unique of 1         The Elder Scrolls V Skyrim\n",
       "3                          Fallout 4\n",
       "5                              Spore\n",
       "7                  Fallout New Vegas\n",
       "9                      Left 4 Dead 2\n",
       "                     ...            \n",
       "199991                  Fallen Earth\n",
       "199993                   Magic Duels\n",
       "199995                   Titan Souls\n",
       "199997    Grand Theft Auto Vice City\n",
       "199999                          RUSH\n",
       "Name: name, Length: 70489, dtype: object>"
      ]
     },
     "execution_count": 44,
     "metadata": {},
     "output_type": "execute_result"
    }
   ],
   "source": [
    "meta['appid'].unique"
   ]
  },
  {
   "cell_type": "code",
   "execution_count": 72,
   "id": "380ba53d",
   "metadata": {},
   "outputs": [
    {
     "ename": "KeyError",
     "evalue": "'rating'",
     "output_type": "error",
     "traceback": [
      "\u001b[1;31m---------------------------------------------------------------------------\u001b[0m",
      "\u001b[1;31mKeyError\u001b[0m                                  Traceback (most recent call last)",
      "File \u001b[1;32m~\\miniconda3\\envs\\itba_apa_env\\lib\\site-packages\\pandas\\core\\indexes\\base.py:3653\u001b[0m, in \u001b[0;36mIndex.get_loc\u001b[1;34m(self, key)\u001b[0m\n\u001b[0;32m   3652\u001b[0m \u001b[38;5;28;01mtry\u001b[39;00m:\n\u001b[1;32m-> 3653\u001b[0m     \u001b[38;5;28;01mreturn\u001b[39;00m \u001b[38;5;28;43mself\u001b[39;49m\u001b[38;5;241;43m.\u001b[39;49m\u001b[43m_engine\u001b[49m\u001b[38;5;241;43m.\u001b[39;49m\u001b[43mget_loc\u001b[49m\u001b[43m(\u001b[49m\u001b[43mcasted_key\u001b[49m\u001b[43m)\u001b[49m\n\u001b[0;32m   3654\u001b[0m \u001b[38;5;28;01mexcept\u001b[39;00m \u001b[38;5;167;01mKeyError\u001b[39;00m \u001b[38;5;28;01mas\u001b[39;00m err:\n",
      "File \u001b[1;32m~\\miniconda3\\envs\\itba_apa_env\\lib\\site-packages\\pandas\\_libs\\index.pyx:147\u001b[0m, in \u001b[0;36mpandas._libs.index.IndexEngine.get_loc\u001b[1;34m()\u001b[0m\n",
      "File \u001b[1;32m~\\miniconda3\\envs\\itba_apa_env\\lib\\site-packages\\pandas\\_libs\\index.pyx:176\u001b[0m, in \u001b[0;36mpandas._libs.index.IndexEngine.get_loc\u001b[1;34m()\u001b[0m\n",
      "File \u001b[1;32mpandas\\_libs\\hashtable_class_helper.pxi:7080\u001b[0m, in \u001b[0;36mpandas._libs.hashtable.PyObjectHashTable.get_item\u001b[1;34m()\u001b[0m\n",
      "File \u001b[1;32mpandas\\_libs\\hashtable_class_helper.pxi:7088\u001b[0m, in \u001b[0;36mpandas._libs.hashtable.PyObjectHashTable.get_item\u001b[1;34m()\u001b[0m\n",
      "\u001b[1;31mKeyError\u001b[0m: 'rating'",
      "\nThe above exception was the direct cause of the following exception:\n",
      "\u001b[1;31mKeyError\u001b[0m                                  Traceback (most recent call last)",
      "Cell \u001b[1;32mIn[72], line 2\u001b[0m\n\u001b[0;32m      1\u001b[0m ratings \u001b[38;5;241m=\u001b[39m ratings[ratings[\u001b[38;5;124m'\u001b[39m\u001b[38;5;124mpurchase\u001b[39m\u001b[38;5;124m'\u001b[39m]\u001b[38;5;241m!=\u001b[39m \u001b[38;5;124m'\u001b[39m\u001b[38;5;124mpurchase\u001b[39m\u001b[38;5;124m'\u001b[39m]\n\u001b[1;32m----> 2\u001b[0m \u001b[43mratings\u001b[49m\u001b[43m[\u001b[49m\u001b[43mratings\u001b[49m\u001b[43m[\u001b[49m\u001b[38;5;124;43m'\u001b[39;49m\u001b[38;5;124;43mname\u001b[39;49m\u001b[38;5;124;43m'\u001b[39;49m\u001b[43m]\u001b[49m\u001b[38;5;241;43m==\u001b[39;49m\u001b[38;5;124;43m'\u001b[39;49m\u001b[38;5;124;43mGrand Theft Auto Vice City\u001b[39;49m\u001b[38;5;124;43m'\u001b[39;49m\u001b[43m]\u001b[49m\u001b[43m[\u001b[49m\u001b[38;5;124;43m'\u001b[39;49m\u001b[38;5;124;43mrating\u001b[39;49m\u001b[38;5;124;43m'\u001b[39;49m\u001b[43m]\u001b[49m\u001b[38;5;241m.\u001b[39mavg\n",
      "File \u001b[1;32m~\\miniconda3\\envs\\itba_apa_env\\lib\\site-packages\\pandas\\core\\frame.py:3761\u001b[0m, in \u001b[0;36mDataFrame.__getitem__\u001b[1;34m(self, key)\u001b[0m\n\u001b[0;32m   3759\u001b[0m \u001b[38;5;28;01mif\u001b[39;00m \u001b[38;5;28mself\u001b[39m\u001b[38;5;241m.\u001b[39mcolumns\u001b[38;5;241m.\u001b[39mnlevels \u001b[38;5;241m>\u001b[39m \u001b[38;5;241m1\u001b[39m:\n\u001b[0;32m   3760\u001b[0m     \u001b[38;5;28;01mreturn\u001b[39;00m \u001b[38;5;28mself\u001b[39m\u001b[38;5;241m.\u001b[39m_getitem_multilevel(key)\n\u001b[1;32m-> 3761\u001b[0m indexer \u001b[38;5;241m=\u001b[39m \u001b[38;5;28;43mself\u001b[39;49m\u001b[38;5;241;43m.\u001b[39;49m\u001b[43mcolumns\u001b[49m\u001b[38;5;241;43m.\u001b[39;49m\u001b[43mget_loc\u001b[49m\u001b[43m(\u001b[49m\u001b[43mkey\u001b[49m\u001b[43m)\u001b[49m\n\u001b[0;32m   3762\u001b[0m \u001b[38;5;28;01mif\u001b[39;00m is_integer(indexer):\n\u001b[0;32m   3763\u001b[0m     indexer \u001b[38;5;241m=\u001b[39m [indexer]\n",
      "File \u001b[1;32m~\\miniconda3\\envs\\itba_apa_env\\lib\\site-packages\\pandas\\core\\indexes\\base.py:3655\u001b[0m, in \u001b[0;36mIndex.get_loc\u001b[1;34m(self, key)\u001b[0m\n\u001b[0;32m   3653\u001b[0m     \u001b[38;5;28;01mreturn\u001b[39;00m \u001b[38;5;28mself\u001b[39m\u001b[38;5;241m.\u001b[39m_engine\u001b[38;5;241m.\u001b[39mget_loc(casted_key)\n\u001b[0;32m   3654\u001b[0m \u001b[38;5;28;01mexcept\u001b[39;00m \u001b[38;5;167;01mKeyError\u001b[39;00m \u001b[38;5;28;01mas\u001b[39;00m err:\n\u001b[1;32m-> 3655\u001b[0m     \u001b[38;5;28;01mraise\u001b[39;00m \u001b[38;5;167;01mKeyError\u001b[39;00m(key) \u001b[38;5;28;01mfrom\u001b[39;00m \u001b[38;5;21;01merr\u001b[39;00m\n\u001b[0;32m   3656\u001b[0m \u001b[38;5;28;01mexcept\u001b[39;00m \u001b[38;5;167;01mTypeError\u001b[39;00m:\n\u001b[0;32m   3657\u001b[0m     \u001b[38;5;66;03m# If we have a listlike key, _check_indexing_error will raise\u001b[39;00m\n\u001b[0;32m   3658\u001b[0m     \u001b[38;5;66;03m#  InvalidIndexError. Otherwise we fall through and re-raise\u001b[39;00m\n\u001b[0;32m   3659\u001b[0m     \u001b[38;5;66;03m#  the TypeError.\u001b[39;00m\n\u001b[0;32m   3660\u001b[0m     \u001b[38;5;28mself\u001b[39m\u001b[38;5;241m.\u001b[39m_check_indexing_error(key)\n",
      "\u001b[1;31mKeyError\u001b[0m: 'rating'"
     ]
    }
   ],
   "source": [
    "ratings = ratings[ratings['purchase']!= 'purchase']\n",
    "ratings[ratings['name']=='Grand Theft Auto Vice City']"
   ]
  },
  {
   "cell_type": "code",
   "execution_count": 54,
   "id": "46016dba",
   "metadata": {},
   "outputs": [],
   "source": [
    "from surprise  import Dataset\n",
    "from surprise  import Reader\n",
    "\n",
    "reader = Reader(rating_scale=(0.1, 11754))\n",
    "data = Dataset.load_from_df(ratings[['user_id', 'name', 'hours']], reader)"
   ]
  },
  {
   "cell_type": "code",
   "execution_count": 56,
   "id": "9fdd5397",
   "metadata": {},
   "outputs": [],
   "source": [
    "from sklearn.metrics.pairwise import cosine_similarity\n",
    "from sklearn.metrics import mean_squared_error\n",
    "from sklearn.model_selection import train_test_split\n",
    "from sklearn.feature_extraction.text import TfidfVectorizer\n",
    "from sklearn.metrics.pairwise import linear_kernel"
   ]
  },
  {
   "cell_type": "code",
   "execution_count": 57,
   "id": "7e119bfd",
   "metadata": {},
   "outputs": [
    {
     "name": "stdout",
     "output_type": "stream",
     "text": [
      "Processing epoch 0\n",
      "Processing epoch 1\n",
      "Processing epoch 2\n",
      "Processing epoch 3\n",
      "Processing epoch 4\n",
      "Processing epoch 5\n",
      "Processing epoch 6\n",
      "Processing epoch 7\n",
      "Processing epoch 8\n",
      "Processing epoch 9\n",
      "Processing epoch 0\n",
      "Processing epoch 1\n",
      "Processing epoch 2\n",
      "Processing epoch 3\n",
      "Processing epoch 4\n",
      "Processing epoch 5\n",
      "Processing epoch 6\n",
      "Processing epoch 7\n",
      "Processing epoch 8\n",
      "Processing epoch 9\n",
      "Processing epoch 0\n",
      "Processing epoch 1\n",
      "Processing epoch 2\n",
      "Processing epoch 3\n",
      "Processing epoch 4\n",
      "Processing epoch 5\n",
      "Processing epoch 6\n",
      "Processing epoch 7\n",
      "Processing epoch 8\n",
      "Processing epoch 9\n",
      "Evaluating RMSE, MAE of algorithm SVD on 3 split(s).\n",
      "\n",
      "                  Fold 1  Fold 2  Fold 3  Mean    Std     \n",
      "RMSE (testset)    11704.574811703.049211702.727911703.45060.8057  \n",
      "MAE (testset)     11698.755611697.283711695.965511697.33491.1397  \n",
      "Fit time          0.98    0.40    0.46    0.61    0.26    \n",
      "Test time         3.04    232.34  0.20    78.52   108.77  \n"
     ]
    },
    {
     "data": {
      "text/plain": [
       "{'test_rmse': array([11704.57481291, 11703.04919644, 11702.72790436]),\n",
       " 'test_mae': array([11698.75562885, 11697.28365724, 11695.96547173]),\n",
       " 'fit_time': (0.977989673614502, 0.4007298946380615, 0.4557788372039795),\n",
       " 'test_time': (3.036190986633301, 232.33718943595886, 0.20110011100769043)}"
      ]
     },
     "execution_count": 57,
     "metadata": {},
     "output_type": "execute_result"
    }
   ],
   "source": [
    "from surprise import SVD\n",
    "from surprise.model_selection import cross_validate\n",
    "\n",
    "svd = SVD(verbose=True, n_epochs=10)\n",
    "cross_validate(svd, data, measures=['RMSE', 'MAE'], cv=3, verbose=True)"
   ]
  },
  {
   "cell_type": "code",
   "execution_count": 58,
   "id": "ab83131c",
   "metadata": {},
   "outputs": [
    {
     "name": "stdout",
     "output_type": "stream",
     "text": [
      "Processing epoch 0\n",
      "Processing epoch 1\n",
      "Processing epoch 2\n",
      "Processing epoch 3\n",
      "Processing epoch 4\n",
      "Processing epoch 5\n",
      "Processing epoch 6\n",
      "Processing epoch 7\n",
      "Processing epoch 8\n",
      "Processing epoch 9\n"
     ]
    },
    {
     "data": {
      "text/plain": [
       "<surprise.prediction_algorithms.matrix_factorization.SVD at 0x187d5aece50>"
      ]
     },
     "execution_count": 58,
     "metadata": {},
     "output_type": "execute_result"
    }
   ],
   "source": [
    "trainset = data.build_full_trainset()\n",
    "svd.fit(trainset)"
   ]
  },
  {
   "cell_type": "code",
   "execution_count": 64,
   "id": "5ab98abd",
   "metadata": {},
   "outputs": [
    {
     "data": {
      "text/plain": [
       "11350"
      ]
     },
     "execution_count": 64,
     "metadata": {},
     "output_type": "execute_result"
    }
   ],
   "source": [
    "trainset.n_users"
   ]
  },
  {
   "cell_type": "code",
   "execution_count": 68,
   "id": "89a78ae4",
   "metadata": {},
   "outputs": [
    {
     "data": {
      "text/plain": [
       "Prediction(uid=10, iid=199997, r_ui=None, est=48.8780632439104, details={'was_impossible': False})"
      ]
     },
     "execution_count": 68,
     "metadata": {},
     "output_type": "execute_result"
    }
   ],
   "source": [
    "svd.predict(uid=10, iid=)"
   ]
  }
 ],
 "metadata": {
  "kernelspec": {
   "display_name": "Python 3 (ipykernel)",
   "language": "python",
   "name": "python3"
  },
  "language_info": {
   "codemirror_mode": {
    "name": "ipython",
    "version": 3
   },
   "file_extension": ".py",
   "mimetype": "text/x-python",
   "name": "python",
   "nbconvert_exporter": "python",
   "pygments_lexer": "ipython3",
   "version": "3.8.17"
  }
 },
 "nbformat": 4,
 "nbformat_minor": 5
}
