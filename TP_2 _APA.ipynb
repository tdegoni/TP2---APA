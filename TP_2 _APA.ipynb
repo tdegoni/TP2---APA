{
 "cells": [
  {
   "attachments": {},
   "cell_type": "markdown",
   "id": "93f6795d",
   "metadata": {},
   "source": [
    "# Carga de datos\n",
    "Cargo los datos de las reviews, la metadata de todos los productos y los ratings de los usuarios.\n"
   ]
  },
  {
   "cell_type": "code",
   "execution_count": 219,
   "id": "c13c0fbe",
   "metadata": {},
   "outputs": [
    {
     "data": {
      "text/html": [
       "<div>\n",
       "<style scoped>\n",
       "    .dataframe tbody tr th:only-of-type {\n",
       "        vertical-align: middle;\n",
       "    }\n",
       "\n",
       "    .dataframe tbody tr th {\n",
       "        vertical-align: top;\n",
       "    }\n",
       "\n",
       "    .dataframe thead th {\n",
       "        text-align: right;\n",
       "    }\n",
       "</style>\n",
       "<table border=\"1\" class=\"dataframe\">\n",
       "  <thead>\n",
       "    <tr style=\"text-align: right;\">\n",
       "      <th></th>\n",
       "      <th>user_id</th>\n",
       "      <th>name</th>\n",
       "      <th>purchase</th>\n",
       "      <th>hours</th>\n",
       "      <th>0</th>\n",
       "    </tr>\n",
       "  </thead>\n",
       "  <tbody>\n",
       "    <tr>\n",
       "      <th>0</th>\n",
       "      <td>151603712</td>\n",
       "      <td>The Elder Scrolls V Skyrim</td>\n",
       "      <td>purchase</td>\n",
       "      <td>1.0</td>\n",
       "      <td>0</td>\n",
       "    </tr>\n",
       "    <tr>\n",
       "      <th>1</th>\n",
       "      <td>151603712</td>\n",
       "      <td>The Elder Scrolls V Skyrim</td>\n",
       "      <td>play</td>\n",
       "      <td>273.0</td>\n",
       "      <td>0</td>\n",
       "    </tr>\n",
       "    <tr>\n",
       "      <th>2</th>\n",
       "      <td>151603712</td>\n",
       "      <td>Fallout 4</td>\n",
       "      <td>purchase</td>\n",
       "      <td>1.0</td>\n",
       "      <td>0</td>\n",
       "    </tr>\n",
       "    <tr>\n",
       "      <th>3</th>\n",
       "      <td>151603712</td>\n",
       "      <td>Fallout 4</td>\n",
       "      <td>play</td>\n",
       "      <td>87.0</td>\n",
       "      <td>0</td>\n",
       "    </tr>\n",
       "    <tr>\n",
       "      <th>4</th>\n",
       "      <td>151603712</td>\n",
       "      <td>Spore</td>\n",
       "      <td>purchase</td>\n",
       "      <td>1.0</td>\n",
       "      <td>0</td>\n",
       "    </tr>\n",
       "    <tr>\n",
       "      <th>5</th>\n",
       "      <td>151603712</td>\n",
       "      <td>Spore</td>\n",
       "      <td>play</td>\n",
       "      <td>14.9</td>\n",
       "      <td>0</td>\n",
       "    </tr>\n",
       "    <tr>\n",
       "      <th>6</th>\n",
       "      <td>151603712</td>\n",
       "      <td>Fallout New Vegas</td>\n",
       "      <td>purchase</td>\n",
       "      <td>1.0</td>\n",
       "      <td>0</td>\n",
       "    </tr>\n",
       "    <tr>\n",
       "      <th>7</th>\n",
       "      <td>151603712</td>\n",
       "      <td>Fallout New Vegas</td>\n",
       "      <td>play</td>\n",
       "      <td>12.1</td>\n",
       "      <td>0</td>\n",
       "    </tr>\n",
       "    <tr>\n",
       "      <th>8</th>\n",
       "      <td>151603712</td>\n",
       "      <td>Left 4 Dead 2</td>\n",
       "      <td>purchase</td>\n",
       "      <td>1.0</td>\n",
       "      <td>0</td>\n",
       "    </tr>\n",
       "    <tr>\n",
       "      <th>9</th>\n",
       "      <td>151603712</td>\n",
       "      <td>Left 4 Dead 2</td>\n",
       "      <td>play</td>\n",
       "      <td>8.9</td>\n",
       "      <td>0</td>\n",
       "    </tr>\n",
       "  </tbody>\n",
       "</table>\n",
       "</div>"
      ],
      "text/plain": [
       "     user_id                        name  purchase  hours  0\n",
       "0  151603712  The Elder Scrolls V Skyrim  purchase    1.0  0\n",
       "1  151603712  The Elder Scrolls V Skyrim      play  273.0  0\n",
       "2  151603712                   Fallout 4  purchase    1.0  0\n",
       "3  151603712                   Fallout 4      play   87.0  0\n",
       "4  151603712                       Spore  purchase    1.0  0\n",
       "5  151603712                       Spore      play   14.9  0\n",
       "6  151603712           Fallout New Vegas  purchase    1.0  0\n",
       "7  151603712           Fallout New Vegas      play   12.1  0\n",
       "8  151603712               Left 4 Dead 2  purchase    1.0  0\n",
       "9  151603712               Left 4 Dead 2      play    8.9  0"
      ]
     },
     "execution_count": 219,
     "metadata": {},
     "output_type": "execute_result"
    }
   ],
   "source": [
    "import pandas as pd\n",
    "\n",
    "meta = pd.read_csv('./Data/steam.csv')\n",
    "\n",
    "\n",
    "ratings = pd.read_csv('./Data/steam-200k.csv', header=None, names=['user_id', 'name', 'purchase', 'hours','0'])\n",
    "\n",
    "ratings.head(10)"
   ]
  },
  {
   "cell_type": "code",
   "execution_count": 41,
   "id": "101aa363",
   "metadata": {},
   "outputs": [
    {
     "name": "stdout",
     "output_type": "stream",
     "text": [
      "<class 'pandas.core.frame.DataFrame'>\n",
      "RangeIndex: 200000 entries, 0 to 199999\n",
      "Data columns (total 5 columns):\n",
      " #   Column    Non-Null Count   Dtype  \n",
      "---  ------    --------------   -----  \n",
      " 0   user_id   200000 non-null  int64  \n",
      " 1   name      200000 non-null  object \n",
      " 2   purchase  200000 non-null  object \n",
      " 3   hours     200000 non-null  float64\n",
      " 4   0         200000 non-null  int64  \n",
      "dtypes: float64(1), int64(2), object(2)\n",
      "memory usage: 7.6+ MB\n"
     ]
    }
   ],
   "source": [
    "ratings.info()"
   ]
  },
  {
   "cell_type": "code",
   "execution_count": 42,
   "id": "13ee3cac",
   "metadata": {},
   "outputs": [
    {
     "name": "stdout",
     "output_type": "stream",
     "text": [
      "<class 'pandas.core.frame.DataFrame'>\n",
      "RangeIndex: 27075 entries, 0 to 27074\n",
      "Data columns (total 18 columns):\n",
      " #   Column            Non-Null Count  Dtype  \n",
      "---  ------            --------------  -----  \n",
      " 0   appid             27075 non-null  int64  \n",
      " 1   name              27075 non-null  object \n",
      " 2   release_date      27075 non-null  object \n",
      " 3   english           27075 non-null  int64  \n",
      " 4   developer         27074 non-null  object \n",
      " 5   publisher         27061 non-null  object \n",
      " 6   platforms         27075 non-null  object \n",
      " 7   required_age      27075 non-null  int64  \n",
      " 8   categories        27075 non-null  object \n",
      " 9   genres            27075 non-null  object \n",
      " 10  steamspy_tags     27075 non-null  object \n",
      " 11  achievements      27075 non-null  int64  \n",
      " 12  positive_ratings  27075 non-null  int64  \n",
      " 13  negative_ratings  27075 non-null  int64  \n",
      " 14  average_playtime  27075 non-null  int64  \n",
      " 15  median_playtime   27075 non-null  int64  \n",
      " 16  owners            27075 non-null  object \n",
      " 17  price             27075 non-null  float64\n",
      "dtypes: float64(1), int64(8), object(9)\n",
      "memory usage: 3.7+ MB\n"
     ]
    }
   ],
   "source": [
    "meta.info()"
   ]
  },
  {
   "cell_type": "code",
   "execution_count": 220,
   "id": "993a9ef5",
   "metadata": {},
   "outputs": [],
   "source": [
    "# Divide las categorías en la columna 'genres'\n",
    "meta['genres'] = meta['genres'].str.split(';')\n",
    "\n",
    "from sklearn.preprocessing import MultiLabelBinarizer\n",
    "\n",
    "mlb = MultiLabelBinarizer()\n",
    "\n",
    "genres_expanded = pd.DataFrame(mlb.fit_transform(meta['genres']),columns=mlb.classes_, index=meta.index)\n",
    "\n",
    "# Concatena las nuevas columnas binarias al DataFrame original\n",
    "meta = pd.concat([meta, genres_expanded], axis=1)\n",
    "\n"
   ]
  },
  {
   "cell_type": "code",
   "execution_count": 75,
   "id": "987ee470",
   "metadata": {},
   "outputs": [
    {
     "name": "stdout",
     "output_type": "stream",
     "text": [
      "<class 'pandas.core.frame.DataFrame'>\n",
      "RangeIndex: 27075 entries, 0 to 27074\n",
      "Data columns (total 47 columns):\n",
      " #   Column                 Non-Null Count  Dtype  \n",
      "---  ------                 --------------  -----  \n",
      " 0   appid                  27075 non-null  int64  \n",
      " 1   name                   27075 non-null  object \n",
      " 2   release_date           27075 non-null  object \n",
      " 3   english                27075 non-null  int64  \n",
      " 4   developer              27074 non-null  object \n",
      " 5   publisher              27061 non-null  object \n",
      " 6   platforms              27075 non-null  object \n",
      " 7   required_age           27075 non-null  int64  \n",
      " 8   categories             27075 non-null  object \n",
      " 9   genres                 27075 non-null  object \n",
      " 10  steamspy_tags          27075 non-null  object \n",
      " 11  achievements           27075 non-null  int64  \n",
      " 12  positive_ratings       27075 non-null  int64  \n",
      " 13  negative_ratings       27075 non-null  int64  \n",
      " 14  average_playtime       27075 non-null  int64  \n",
      " 15  median_playtime        27075 non-null  int64  \n",
      " 16  owners                 27075 non-null  object \n",
      " 17  price                  27075 non-null  float64\n",
      " 18  Accounting             27075 non-null  int32  \n",
      " 19  Action                 27075 non-null  int32  \n",
      " 20  Adventure              27075 non-null  int32  \n",
      " 21  Animation & Modeling   27075 non-null  int32  \n",
      " 22  Audio Production       27075 non-null  int32  \n",
      " 23  Casual                 27075 non-null  int32  \n",
      " 24  Design & Illustration  27075 non-null  int32  \n",
      " 25  Documentary            27075 non-null  int32  \n",
      " 26  Early Access           27075 non-null  int32  \n",
      " 27  Education              27075 non-null  int32  \n",
      " 28  Free to Play           27075 non-null  int32  \n",
      " 29  Game Development       27075 non-null  int32  \n",
      " 30  Gore                   27075 non-null  int32  \n",
      " 31  Indie                  27075 non-null  int32  \n",
      " 32  Massively Multiplayer  27075 non-null  int32  \n",
      " 33  Nudity                 27075 non-null  int32  \n",
      " 34  Photo Editing          27075 non-null  int32  \n",
      " 35  RPG                    27075 non-null  int32  \n",
      " 36  Racing                 27075 non-null  int32  \n",
      " 37  Sexual Content         27075 non-null  int32  \n",
      " 38  Simulation             27075 non-null  int32  \n",
      " 39  Software Training      27075 non-null  int32  \n",
      " 40  Sports                 27075 non-null  int32  \n",
      " 41  Strategy               27075 non-null  int32  \n",
      " 42  Tutorial               27075 non-null  int32  \n",
      " 43  Utilities              27075 non-null  int32  \n",
      " 44  Video Production       27075 non-null  int32  \n",
      " 45  Violent                27075 non-null  int32  \n",
      " 46  Web Publishing         27075 non-null  int32  \n",
      "dtypes: float64(1), int32(29), int64(8), object(9)\n",
      "memory usage: 6.7+ MB\n"
     ]
    }
   ],
   "source": [
    "meta.info()"
   ]
  },
  {
   "cell_type": "markdown",
   "metadata": {},
   "source": [
    "# Filtro basado en memoria\n",
    "\n",
    "Usando una matriz de similitud podemos saber la similitud de un titulo con otro y los más similares basados en una serie de características. El mayor problema es la memoria y la escalabilidad. "
   ]
  },
  {
   "cell_type": "code",
   "execution_count": 8,
   "id": "62425686",
   "metadata": {},
   "outputs": [
    {
     "name": "stdout",
     "output_type": "stream",
     "text": [
      "Requirement already satisfied: gower in c:\\users\\usuario\\miniconda3\\envs\\itba_apa_env\\lib\\site-packages (0.1.2)\n",
      "Requirement already satisfied: numpy in c:\\users\\usuario\\miniconda3\\envs\\itba_apa_env\\lib\\site-packages (from gower) (1.23.5)\n",
      "Requirement already satisfied: scipy in c:\\users\\usuario\\miniconda3\\envs\\itba_apa_env\\lib\\site-packages (from gower) (1.10.1)\n",
      "Note: you may need to restart the kernel to use updated packages.\n"
     ]
    }
   ],
   "source": [
    "%pip install gower"
   ]
  },
  {
   "cell_type": "code",
   "execution_count": 221,
   "id": "3bfe8c50",
   "metadata": {},
   "outputs": [],
   "source": [
    "from sklearn.preprocessing import MinMaxScaler\n",
    "\n",
    "# Variables numéricas para escalar\n",
    "numeric_cols_to_scale = ['positive_ratings', 'negative_ratings', 'average_playtime', 'median_playtime']\n",
    "\n",
    "# Aplicar Min-Max scaling a las variables numéricas seleccionadas\n",
    "scaler = MinMaxScaler()\n",
    "meta[numeric_cols_to_scale] = scaler.fit_transform(meta[numeric_cols_to_scale])\n"
   ]
  },
  {
   "cell_type": "code",
   "execution_count": 301,
   "id": "45c1d05f",
   "metadata": {},
   "outputs": [
    {
     "name": "stdout",
     "output_type": "stream",
     "text": [
      "          25        22        19        12836     121       2478      1467   \\\n",
      "25     0.000000  0.178211  0.142283  0.241202  0.374820  0.263582  0.260659   \n",
      "22     0.178211  0.000000  0.130738  0.344578  0.363276  0.252037  0.249114   \n",
      "19     0.142283  0.130738  0.000000  0.294042  0.288093  0.200869  0.179061   \n",
      "12836  0.241202  0.344578  0.294042  0.000000  0.404420  0.155751  0.289527   \n",
      "121    0.374820  0.363276  0.288093  0.404420  0.000000  0.250125  0.228317   \n",
      "...         ...       ...       ...       ...       ...       ...       ...   \n",
      "18923  0.379219  0.367675  0.292492  0.419039  0.292397  0.318844  0.296179   \n",
      "7056   0.445729  0.323074  0.359002  0.463632  0.348687  0.363436  0.240626   \n",
      "3676   0.386732  0.375188  0.300005  0.411507  0.178579  0.311311  0.181629   \n",
      "12641  0.268109  0.256564  0.181382  0.307929  0.403509  0.207734  0.185068   \n",
      "15514  0.498363  0.486818  0.411636  0.411003  0.401321  0.310807  0.404371   \n",
      "\n",
      "          3362      1120      21     ...     18560     2860      2617   \\\n",
      "25     0.313932  0.378077  0.211565  ...  0.328889  0.279062  0.271604   \n",
      "22     0.302388  0.366532  0.200021  ...  0.317344  0.267518  0.260060   \n",
      "19     0.171650  0.291350  0.124838  ...  0.242162  0.192335  0.184877   \n",
      "12836  0.353753  0.296565  0.240873  ...  0.247085  0.296964  0.304420   \n",
      "121    0.341655  0.281034  0.170079  ...  0.231847  0.182020  0.177779   \n",
      "...         ...       ...       ...  ...       ...       ...       ...   \n",
      "18923  0.231953  0.178030  0.344833  ...  0.338621  0.233186  0.225730   \n",
      "7056   0.520686  0.345430  0.289719  ...  0.394618  0.333334  0.340792   \n",
      "3676   0.350577  0.175322  0.230722  ...  0.224510  0.170108  0.170692   \n",
      "12641  0.231954  0.178030  0.233723  ...  0.338622  0.288742  0.281286   \n",
      "15514  0.351097  0.286953  0.342353  ...  0.280585  0.280705  0.282314   \n",
      "\n",
      "          2893      6134      18923     7056      3676      12641     15514  \n",
      "25     0.325701  0.328036  0.379219  0.445729  0.386732  0.268109  0.498363  \n",
      "22     0.314156  0.316491  0.367675  0.323074  0.375188  0.256564  0.486818  \n",
      "19     0.238973  0.241309  0.292492  0.359002  0.300005  0.181382  0.411636  \n",
      "12836  0.361442  0.247987  0.419039  0.463632  0.411507  0.307929  0.411003  \n",
      "121    0.234800  0.232456  0.292397  0.348687  0.178579  0.403509  0.401321  \n",
      "...         ...       ...       ...       ...       ...       ...       ...  \n",
      "18923  0.224264  0.226608  0.000000  0.344297  0.174200  0.166667  0.396926  \n",
      "7056   0.120032  0.339916  0.344297  0.000000  0.170108  0.288742  0.447371  \n",
      "3676   0.061046  0.169813  0.174200  0.170108  0.000000  0.229756  0.389409  \n",
      "12641  0.168710  0.171054  0.166667  0.288742  0.229756  0.000000  0.396926  \n",
      "15514  0.450440  0.225883  0.396926  0.447371  0.389409  0.396926  0.000000  \n",
      "\n",
      "[5000 rows x 5000 columns]\n"
     ]
    }
   ],
   "source": [
    "from gower import gower_matrix\n",
    "\n",
    "# Lista de columnas categóricas\n",
    "categorical_columns = ['name','Action', 'Adventure','Casual','Early Access',\n",
    "                       'Free to Play', 'Gore', 'Indie','Massively Multiplayer', 'RPG', 'Racing',\n",
    "                       'Simulation', 'Sports','Strategy', 'Violent']\n",
    "\n",
    "# Lista de columnas numéricas\n",
    "numeric_columns = [ 'positive_ratings', 'negative_ratings','price', 'owners']\n",
    "\n",
    "# Seleccionar solo las columnas que vas a utilizar\n",
    "metadata_selected = meta[categorical_columns + numeric_columns]\n",
    "\n",
    "# Ordenar el DataFrame por la columna 'owners' en orden descendente\n",
    "metadata_selected = metadata_selected.sort_values(by='positive_ratings', ascending=False)\n",
    "\n",
    "# Tomar los primeros n valores (por ejemplo, los 10 juegos más populares)\n",
    "n = 5000\n",
    "metadata_selected = metadata_selected.head(n)\n",
    "\n",
    "# Calcular la matriz de distancias de Gower\n",
    "gower_dist_matrix = gower_matrix(metadata_selected.drop('name',axis=1))\n",
    "\n",
    "# Convertir la matriz de distancias a un DataFrame\n",
    "gower_dist_df = pd.DataFrame(gower_dist_matrix, columns=metadata_selected.index, index=metadata_selected.index)\n",
    "\n",
    "# Mostrar el DataFrame de distancias\n",
    "print(gower_dist_df)\n"
   ]
  },
  {
   "cell_type": "code",
   "execution_count": null,
   "id": "0ac27b53",
   "metadata": {},
   "outputs": [
    {
     "name": "stdout",
     "output_type": "stream",
     "text": [
      "Requirement already satisfied: fuzzywuzzy in c:\\users\\usuario\\miniconda3\\envs\\itba_apa_env\\lib\\site-packages (0.18.0)\n",
      "Note: you may need to restart the kernel to use updated packages.\n"
     ]
    }
   ],
   "source": [
    "%pip install fuzzywuzzy"
   ]
  },
  {
   "cell_type": "code",
   "execution_count": 126,
   "id": "1c4b6ccd",
   "metadata": {},
   "outputs": [],
   "source": [
    "def recommend_games(game_input, n=5):\n",
    "\n",
    "    #Le paso el nombre del juego que tiene que si o si estar en meta (mi universo de juegos) y el n de recomendaciones. Default 4 \n",
    "\n",
    "    try:\n",
    "        # Buscar juegos cuyos nombres contengan la cadena de búsqueda en metadata_selected\n",
    "        matching_games = metadata_selected[metadata_selected['name'].str.contains(game_input, case=False)].copy()\n",
    "\n",
    "        if not matching_games.empty:\n",
    "            # Si el juego está en metadata_selected, obtener su índice\n",
    "            game_index = matching_games.index[0]\n",
    "            #print(game_index, metadata_selected[metadata_selected['name']==game_input],matching_games)\n",
    "\n",
    "            # Obtener los juegos más similares\n",
    "            similarity_score = list(enumerate(gower_dist_matrix[game_index]))\n",
    "            similarity_score = sorted(similarity_score, key=lambda x: x[1], reverse=False)\n",
    "            similarity_score = similarity_score[1:n]\n",
    "\n",
    "            # Retornar los nombres de los juegos utilizando el DataFrame meta\n",
    "            game_indices = [i[0] for i in similarity_score]\n",
    "            return meta[['name', 'price']].iloc[game_indices]\n",
    "\n",
    "        else:\n",
    "            print(\"Realizando una busqueda más amplia. Espere por favor.\")\n",
    "            # Si el juego no está en metadata_selected, agregarlo a metadata_selected_2\n",
    "            metadata_selected_2 = metadata_selected.copy()\n",
    "            metadata_selected_2 = metadata_selected_2.append(meta[meta['name'].str.contains(game_input, case=False)])\n",
    "            metadata_selected_2.reset_index(drop=True, inplace=True)\n",
    "\n",
    "            # Recalcular la matriz de distancias de Gower\n",
    "            gower_dist_matrix_2 = gower_matrix(metadata_selected_2.drop('name',axis=1).head(1000))\n",
    "\n",
    "            # Obtener el índice del juego buscado en metadata_selected_2\n",
    "            game_index_2 = metadata_selected_2[metadata_selected_2['name'].str.contains(game_input, case=False)].index[0]\n",
    "\n",
    "            # Obtener los juegos más similares en metadata_selected_2\n",
    "            similarity_score_2 = list(enumerate(gower_dist_matrix_2[game_index_2]))\n",
    "            similarity_score_2 = sorted(similarity_score_2, key=lambda x: x[1], reverse=False)\n",
    "            similarity_score_2 = similarity_score_2[1:n]\n",
    "\n",
    "            # Retornar los nombres de los juegos utilizando el DataFrame meta\n",
    "            game_indices_2 = [i[0] for i in similarity_score_2]\n",
    "            return meta[['name', 'price']].iloc[game_indices_2]\n",
    "\n",
    "    except IndexError:\n",
    "        # Si ocurre un IndexError, imprime un mensaje y devuelve None o un DataFrame vacío\n",
    "        print(f\"No se encontraron juegos que contengan '{game_input}'.\")\n",
    "        return None\n"
   ]
  },
  {
   "cell_type": "code",
   "execution_count": 134,
   "id": "17cd80db",
   "metadata": {},
   "outputs": [
    {
     "data": {
      "text/html": [
       "<div>\n",
       "<style scoped>\n",
       "    .dataframe tbody tr th:only-of-type {\n",
       "        vertical-align: middle;\n",
       "    }\n",
       "\n",
       "    .dataframe tbody tr th {\n",
       "        vertical-align: top;\n",
       "    }\n",
       "\n",
       "    .dataframe thead th {\n",
       "        text-align: right;\n",
       "    }\n",
       "</style>\n",
       "<table border=\"1\" class=\"dataframe\">\n",
       "  <thead>\n",
       "    <tr style=\"text-align: right;\">\n",
       "      <th></th>\n",
       "      <th>name</th>\n",
       "      <th>price</th>\n",
       "    </tr>\n",
       "  </thead>\n",
       "  <tbody>\n",
       "    <tr>\n",
       "      <th>219</th>\n",
       "      <td>BioShock Infinite</td>\n",
       "      <td>19.99</td>\n",
       "    </tr>\n",
       "    <tr>\n",
       "      <th>68</th>\n",
       "      <td>Call of Duty: United Offensive</td>\n",
       "      <td>14.99</td>\n",
       "    </tr>\n",
       "    <tr>\n",
       "      <th>107</th>\n",
       "      <td>Sniper Elite</td>\n",
       "      <td>5.59</td>\n",
       "    </tr>\n",
       "    <tr>\n",
       "      <th>120</th>\n",
       "      <td>Civilization IV®: Warlords</td>\n",
       "      <td>2.99</td>\n",
       "    </tr>\n",
       "    <tr>\n",
       "      <th>75</th>\n",
       "      <td>X: Beyond the Frontier</td>\n",
       "      <td>3.49</td>\n",
       "    </tr>\n",
       "    <tr>\n",
       "      <th>189</th>\n",
       "      <td>X-Blades</td>\n",
       "      <td>6.99</td>\n",
       "    </tr>\n",
       "    <tr>\n",
       "      <th>103</th>\n",
       "      <td>Plants vs. Zombies GOTY Edition</td>\n",
       "      <td>4.25</td>\n",
       "    </tr>\n",
       "    <tr>\n",
       "      <th>2317</th>\n",
       "      <td>Even the Ocean</td>\n",
       "      <td>10.99</td>\n",
       "    </tr>\n",
       "    <tr>\n",
       "      <th>153</th>\n",
       "      <td>Thrillville®: Off the Rails™</td>\n",
       "      <td>7.19</td>\n",
       "    </tr>\n",
       "    <tr>\n",
       "      <th>98</th>\n",
       "      <td>Amazing Adventures Around the World</td>\n",
       "      <td>4.25</td>\n",
       "    </tr>\n",
       "    <tr>\n",
       "      <th>204</th>\n",
       "      <td>Tomb Raider: Anniversary</td>\n",
       "      <td>6.99</td>\n",
       "    </tr>\n",
       "    <tr>\n",
       "      <th>59</th>\n",
       "      <td>The Ship: Murder Party</td>\n",
       "      <td>0.00</td>\n",
       "    </tr>\n",
       "    <tr>\n",
       "      <th>175</th>\n",
       "      <td>Just Cause</td>\n",
       "      <td>4.99</td>\n",
       "    </tr>\n",
       "    <tr>\n",
       "      <th>115</th>\n",
       "      <td>Sid Meier's Civilization® IV</td>\n",
       "      <td>9.99</td>\n",
       "    </tr>\n",
       "    <tr>\n",
       "      <th>226</th>\n",
       "      <td>QUAKE Mission Pack 2: Dissolution of Eternity</td>\n",
       "      <td>2.49</td>\n",
       "    </tr>\n",
       "    <tr>\n",
       "      <th>87</th>\n",
       "      <td>Genesis Rising</td>\n",
       "      <td>4.49</td>\n",
       "    </tr>\n",
       "    <tr>\n",
       "      <th>5686</th>\n",
       "      <td>Holodrive</td>\n",
       "      <td>0.00</td>\n",
       "    </tr>\n",
       "    <tr>\n",
       "      <th>203</th>\n",
       "      <td>Call of Duty® 4: Modern Warfare®</td>\n",
       "      <td>19.99</td>\n",
       "    </tr>\n",
       "    <tr>\n",
       "      <th>3</th>\n",
       "      <td>Deathmatch Classic</td>\n",
       "      <td>3.99</td>\n",
       "    </tr>\n",
       "    <tr>\n",
       "      <th>55</th>\n",
       "      <td>QUAKE III: Team Arena</td>\n",
       "      <td>12.99</td>\n",
       "    </tr>\n",
       "    <tr>\n",
       "      <th>552</th>\n",
       "      <td>Dead Horde</td>\n",
       "      <td>4.79</td>\n",
       "    </tr>\n",
       "    <tr>\n",
       "      <th>3352</th>\n",
       "      <td>Agents of Mayhem</td>\n",
       "      <td>26.99</td>\n",
       "    </tr>\n",
       "    <tr>\n",
       "      <th>400</th>\n",
       "      <td>Mosby's Confederacy</td>\n",
       "      <td>6.99</td>\n",
       "    </tr>\n",
       "    <tr>\n",
       "      <th>33</th>\n",
       "      <td>Multiwinia</td>\n",
       "      <td>7.19</td>\n",
       "    </tr>\n",
       "  </tbody>\n",
       "</table>\n",
       "</div>"
      ],
      "text/plain": [
       "                                               name  price\n",
       "219                               BioShock Infinite  19.99\n",
       "68                   Call of Duty: United Offensive  14.99\n",
       "107                                    Sniper Elite   5.59\n",
       "120                      Civilization IV®: Warlords   2.99\n",
       "75                           X: Beyond the Frontier   3.49\n",
       "189                                        X-Blades   6.99\n",
       "103                 Plants vs. Zombies GOTY Edition   4.25\n",
       "2317                                 Even the Ocean  10.99\n",
       "153                    Thrillville®: Off the Rails™   7.19\n",
       "98              Amazing Adventures Around the World   4.25\n",
       "204                        Tomb Raider: Anniversary   6.99\n",
       "59                           The Ship: Murder Party   0.00\n",
       "175                                      Just Cause   4.99\n",
       "115                    Sid Meier's Civilization® IV   9.99\n",
       "226   QUAKE Mission Pack 2: Dissolution of Eternity   2.49\n",
       "87                                   Genesis Rising   4.49\n",
       "5686                                      Holodrive   0.00\n",
       "203                Call of Duty® 4: Modern Warfare®  19.99\n",
       "3                                Deathmatch Classic   3.99\n",
       "55                            QUAKE III: Team Arena  12.99\n",
       "552                                      Dead Horde   4.79\n",
       "3352                               Agents of Mayhem  26.99\n",
       "400                             Mosby's Confederacy   6.99\n",
       "33                                       Multiwinia   7.19"
      ]
     },
     "execution_count": 134,
     "metadata": {},
     "output_type": "execute_result"
    }
   ],
   "source": [
    "recommend_games('Counter-Strike',25)"
   ]
  },
  {
   "cell_type": "code",
   "execution_count": 128,
   "metadata": {},
   "outputs": [
    {
     "data": {
      "text/html": [
       "<div>\n",
       "<style scoped>\n",
       "    .dataframe tbody tr th:only-of-type {\n",
       "        vertical-align: middle;\n",
       "    }\n",
       "\n",
       "    .dataframe tbody tr th {\n",
       "        vertical-align: top;\n",
       "    }\n",
       "\n",
       "    .dataframe thead th {\n",
       "        text-align: right;\n",
       "    }\n",
       "</style>\n",
       "<table border=\"1\" class=\"dataframe\">\n",
       "  <thead>\n",
       "    <tr style=\"text-align: right;\">\n",
       "      <th></th>\n",
       "      <th>name</th>\n",
       "      <th>price</th>\n",
       "    </tr>\n",
       "  </thead>\n",
       "  <tbody>\n",
       "    <tr>\n",
       "      <th>526</th>\n",
       "      <td>Eschalon: Book II</td>\n",
       "      <td>4.79</td>\n",
       "    </tr>\n",
       "    <tr>\n",
       "      <th>518</th>\n",
       "      <td>Medal of Honor: Airborne</td>\n",
       "      <td>9.99</td>\n",
       "    </tr>\n",
       "    <tr>\n",
       "      <th>653</th>\n",
       "      <td>Chronicles of Mystery: The Scorpio Ritual</td>\n",
       "      <td>3.99</td>\n",
       "    </tr>\n",
       "    <tr>\n",
       "      <th>1052</th>\n",
       "      <td>Hydrophobia: Prophecy</td>\n",
       "      <td>3.99</td>\n",
       "    </tr>\n",
       "    <tr>\n",
       "      <th>899</th>\n",
       "      <td>Hotel Dash™ Suite Success™</td>\n",
       "      <td>4.99</td>\n",
       "    </tr>\n",
       "    <tr>\n",
       "      <th>700</th>\n",
       "      <td>Fitness Dash™</td>\n",
       "      <td>4.99</td>\n",
       "    </tr>\n",
       "    <tr>\n",
       "      <th>2175</th>\n",
       "      <td>Valiant Hearts: The Great War™ / Soldats Incon...</td>\n",
       "      <td>12.49</td>\n",
       "    </tr>\n",
       "    <tr>\n",
       "      <th>1376</th>\n",
       "      <td>Starbound</td>\n",
       "      <td>11.99</td>\n",
       "    </tr>\n",
       "    <tr>\n",
       "      <th>7081</th>\n",
       "      <td>Tank: M1A1 Abrams Battle Simulation</td>\n",
       "      <td>4.99</td>\n",
       "    </tr>\n",
       "  </tbody>\n",
       "</table>\n",
       "</div>"
      ],
      "text/plain": [
       "                                                   name  price\n",
       "526                                   Eschalon: Book II   4.79\n",
       "518                            Medal of Honor: Airborne   9.99\n",
       "653           Chronicles of Mystery: The Scorpio Ritual   3.99\n",
       "1052                              Hydrophobia: Prophecy   3.99\n",
       "899                          Hotel Dash™ Suite Success™   4.99\n",
       "700                                       Fitness Dash™   4.99\n",
       "2175  Valiant Hearts: The Great War™ / Soldats Incon...  12.49\n",
       "1376                                          Starbound  11.99\n",
       "7081                Tank: M1A1 Abrams Battle Simulation   4.99"
      ]
     },
     "execution_count": 128,
     "metadata": {},
     "output_type": "execute_result"
    }
   ],
   "source": [
    "recommend_games(\"Spore\", 10)"
   ]
  },
  {
   "attachments": {},
   "cell_type": "markdown",
   "id": "9e3586ed",
   "metadata": {},
   "source": [
    "# Sistema de recomendacion filtros colaborativos\n",
    "\n",
    "Hay que analizar los df y crear mi matriz de item-usuario para poder crear el algoritmo de filtro colaborativo."
   ]
  },
  {
   "cell_type": "code",
   "execution_count": 222,
   "id": "380ba53d",
   "metadata": {},
   "outputs": [],
   "source": [
    "ratings = ratings[ratings['purchase']!= 'purchase']"
   ]
  },
  {
   "cell_type": "markdown",
   "metadata": {},
   "source": [
    "Como no tengo metadata de todos los juegos en _ratings_, uno con _meta_ por nombre (estan bien escritos) y asi puedo saber genero y mas cosas y matengo los id de juego que cree antes."
   ]
  },
  {
   "cell_type": "code",
   "execution_count": 223,
   "metadata": {},
   "outputs": [],
   "source": [
    "# Puedes crear un diccionario que asigne un ID único a cada nombre único\n",
    "name_id_dict = {name: idx + 1 for idx, name in enumerate(ratings['name'].unique())}\n",
    "\n",
    "# Agrega una nueva columna \"game_id\" al DataFrame usando el diccionario\n",
    "ratings['game_id'] = ratings['name'].map(name_id_dict)\n",
    "\n",
    "ratings_meta = pd.merge(ratings,meta, on='name')\n",
    "\n",
    "#metadata = ratings_meta['game_id', 'name', 'release_date  ', 'developer  ', 'price', 'positive_ratings']#.groupby('game_id')"
   ]
  },
  {
   "cell_type": "code",
   "execution_count": 228,
   "metadata": {},
   "outputs": [
    {
     "data": {
      "text/plain": [
       "Index(['user_id', 'name', 'purchase', 'hours', '0', 'game_id', 'appid',\n",
       "       'release_date', 'english', 'developer', 'publisher', 'platforms',\n",
       "       'required_age', 'categories', 'genres', 'steamspy_tags', 'achievements',\n",
       "       'positive_ratings', 'negative_ratings', 'average_playtime',\n",
       "       'median_playtime', 'owners', 'price', 'Accounting', 'Action',\n",
       "       'Adventure', 'Animation & Modeling', 'Audio Production', 'Casual',\n",
       "       'Design & Illustration', 'Documentary', 'Early Access', 'Education',\n",
       "       'Free to Play', 'Game Development', 'Gore', 'Indie',\n",
       "       'Massively Multiplayer', 'Nudity', 'Photo Editing', 'RPG', 'Racing',\n",
       "       'Sexual Content', 'Simulation', 'Software Training', 'Sports',\n",
       "       'Strategy', 'Tutorial', 'Utilities', 'Video Production', 'Violent',\n",
       "       'Web Publishing'],\n",
       "      dtype='object')"
      ]
     },
     "execution_count": 228,
     "metadata": {},
     "output_type": "execute_result"
    }
   ],
   "source": [
    "ratings_meta.columns"
   ]
  },
  {
   "cell_type": "code",
   "execution_count": 241,
   "metadata": {},
   "outputs": [],
   "source": [
    "metadata=ratings_meta.loc[:,['game_id', 'name','release_date', 'developer', 'price', 'positive_ratings']]"
   ]
  },
  {
   "cell_type": "code",
   "execution_count": 245,
   "metadata": {},
   "outputs": [],
   "source": [
    "\n",
    "\n",
    "# Identificar juegos que aparecen exactamente una vez por game_id\n",
    "metadata = metadata[~metadata.duplicated(subset=['game_id'], keep=False)].copy()\n",
    "\n"
   ]
  },
  {
   "cell_type": "code",
   "execution_count": 169,
   "id": "46016dba",
   "metadata": {},
   "outputs": [
    {
     "name": "stderr",
     "output_type": "stream",
     "text": [
      "C:\\Users\\Usuario\\AppData\\Local\\Temp\\ipykernel_13332\\30915950.py:8: SettingWithCopyWarning: \n",
      "A value is trying to be set on a copy of a slice from a DataFrame.\n",
      "Try using .loc[row_indexer,col_indexer] = value instead\n",
      "\n",
      "See the caveats in the documentation: https://pandas.pydata.org/pandas-docs/stable/user_guide/indexing.html#returning-a-view-versus-a-copy\n",
      "  ratings['hours'] = scaler.fit_transform(ratings[['hours']])\n"
     ]
    }
   ],
   "source": [
    "from surprise  import Dataset\n",
    "from surprise  import Reader\n",
    "from sklearn.preprocessing import StandardScaler\n",
    "\n",
    "scaler = StandardScaler()\n",
    "\n",
    "# Ajusta el escalador a los datos y transforma la columna 'hours'\n",
    "ratings['hours'] = scaler.fit_transform(ratings[['hours']])\n",
    "\n",
    "reader = Reader(rating_scale=(min_value, max_value))\n",
    "data = Dataset.load_from_df(ratings[['user_id', 'game_id', 'hours']], reader)"
   ]
  },
  {
   "cell_type": "code",
   "execution_count": 108,
   "id": "9fdd5397",
   "metadata": {},
   "outputs": [],
   "source": [
    "from sklearn.metrics.pairwise import cosine_similarity\n",
    "from sklearn.metrics import mean_squared_error\n",
    "from sklearn.model_selection import train_test_split\n",
    "from sklearn.feature_extraction.text import TfidfVectorizer\n",
    "from sklearn.metrics.pairwise import linear_kernel"
   ]
  },
  {
   "cell_type": "code",
   "execution_count": 170,
   "id": "7e119bfd",
   "metadata": {},
   "outputs": [
    {
     "name": "stdout",
     "output_type": "stream",
     "text": [
      "Processing epoch 0\n",
      "Processing epoch 1\n",
      "Processing epoch 2\n",
      "Processing epoch 3\n",
      "Processing epoch 4\n",
      "Processing epoch 5\n",
      "Processing epoch 6\n",
      "Processing epoch 7\n",
      "Processing epoch 8\n",
      "Processing epoch 9\n",
      "Processing epoch 0\n",
      "Processing epoch 1\n",
      "Processing epoch 2\n",
      "Processing epoch 3\n",
      "Processing epoch 4\n",
      "Processing epoch 5\n",
      "Processing epoch 6\n",
      "Processing epoch 7\n",
      "Processing epoch 8\n",
      "Processing epoch 9\n",
      "Processing epoch 0\n",
      "Processing epoch 1\n",
      "Processing epoch 2\n",
      "Processing epoch 3\n",
      "Processing epoch 4\n",
      "Processing epoch 5\n",
      "Processing epoch 6\n",
      "Processing epoch 7\n",
      "Processing epoch 8\n",
      "Processing epoch 9\n",
      "Evaluating RMSE, MAE of algorithm SVD on 3 split(s).\n",
      "\n",
      "                  Fold 1  Fold 2  Fold 3  Mean    Std     \n",
      "RMSE (testset)    1.0243  0.9202  1.0051  0.9832  0.0452  \n",
      "MAE (testset)     0.4196  0.4175  0.4085  0.4152  0.0048  \n",
      "Fit time          0.41    0.38    0.41    0.40    0.01    \n",
      "Test time         0.22    0.18    0.18    0.19    0.02    \n"
     ]
    },
    {
     "data": {
      "text/plain": [
       "{'test_rmse': array([1.02425505, 0.9201959 , 1.00509591]),\n",
       " 'test_mae': array([0.41957354, 0.41751739, 0.40845188]),\n",
       " 'fit_time': (0.41190242767333984, 0.38234758377075195, 0.4118995666503906),\n",
       " 'test_time': (0.21741437911987305, 0.17557287216186523, 0.18453192710876465)}"
      ]
     },
     "execution_count": 170,
     "metadata": {},
     "output_type": "execute_result"
    }
   ],
   "source": [
    "from surprise import SVD\n",
    "from surprise.model_selection import cross_validate\n",
    "\n",
    "svd = SVD(verbose=True, n_epochs=10)\n",
    "cross_validate(svd, data, measures=['RMSE', 'MAE'], cv=3, verbose=True)"
   ]
  },
  {
   "cell_type": "code",
   "execution_count": 171,
   "id": "ab83131c",
   "metadata": {},
   "outputs": [
    {
     "name": "stdout",
     "output_type": "stream",
     "text": [
      "Processing epoch 0\n",
      "Processing epoch 1\n",
      "Processing epoch 2\n",
      "Processing epoch 3\n",
      "Processing epoch 4\n",
      "Processing epoch 5\n",
      "Processing epoch 6\n",
      "Processing epoch 7\n",
      "Processing epoch 8\n",
      "Processing epoch 9\n"
     ]
    },
    {
     "data": {
      "text/plain": [
       "<surprise.prediction_algorithms.matrix_factorization.SVD at 0x20fdb5445b0>"
      ]
     },
     "execution_count": 171,
     "metadata": {},
     "output_type": "execute_result"
    }
   ],
   "source": [
    "trainset = data.build_full_trainset()\n",
    "svd.fit(trainset)"
   ]
  },
  {
   "cell_type": "code",
   "execution_count": 172,
   "id": "5ab98abd",
   "metadata": {},
   "outputs": [
    {
     "data": {
      "text/plain": [
       "11350"
      ]
     },
     "execution_count": 172,
     "metadata": {},
     "output_type": "execute_result"
    }
   ],
   "source": [
    "trainset.n_users"
   ]
  },
  {
   "cell_type": "code",
   "execution_count": 160,
   "metadata": {},
   "outputs": [
    {
     "name": "stdout",
     "output_type": "stream",
     "text": [
      "1\n"
     ]
    }
   ],
   "source": [
    "print(name_id_dict.get(\"The Elder Scrolls V Skyrim\"))"
   ]
  },
  {
   "cell_type": "code",
   "execution_count": 175,
   "id": "89a78ae4",
   "metadata": {},
   "outputs": [
    {
     "name": "stdout",
     "output_type": "stream",
     "text": [
      "[[1.04425347]]\n"
     ]
    }
   ],
   "source": [
    "\n",
    "pred = svd.predict(uid=128470551, iid=name_id_dict.get(\"The Elder Scrolls V Skyrim\"))\n",
    "\n",
    "# Utiliza inverse_transform para obtener las horas jugadas en la escala original\n",
    "horas_jugadas_scaled = pred.est\n",
    "horas_jugadas_original_scale = scaler.inverse_transform([[horas_jugadas_scaled]])\n",
    "\n",
    "print(horas_jugadas_original_scale)\n"
   ]
  },
  {
   "cell_type": "code",
   "execution_count": 176,
   "metadata": {},
   "outputs": [
    {
     "data": {
      "text/html": [
       "<div>\n",
       "<style scoped>\n",
       "    .dataframe tbody tr th:only-of-type {\n",
       "        vertical-align: middle;\n",
       "    }\n",
       "\n",
       "    .dataframe tbody tr th {\n",
       "        vertical-align: top;\n",
       "    }\n",
       "\n",
       "    .dataframe thead th {\n",
       "        text-align: right;\n",
       "    }\n",
       "</style>\n",
       "<table border=\"1\" class=\"dataframe\">\n",
       "  <thead>\n",
       "    <tr style=\"text-align: right;\">\n",
       "      <th></th>\n",
       "      <th>user_id</th>\n",
       "      <th>name</th>\n",
       "      <th>purchase</th>\n",
       "      <th>hours</th>\n",
       "      <th>0</th>\n",
       "      <th>game_id</th>\n",
       "    </tr>\n",
       "  </thead>\n",
       "  <tbody>\n",
       "    <tr>\n",
       "      <th>199969</th>\n",
       "      <td>128470551</td>\n",
       "      <td>The Binding of Isaac Rebirth</td>\n",
       "      <td>play</td>\n",
       "      <td>1.055763</td>\n",
       "      <td>0</td>\n",
       "      <td>501</td>\n",
       "    </tr>\n",
       "    <tr>\n",
       "      <th>199971</th>\n",
       "      <td>128470551</td>\n",
       "      <td>Path of Exile</td>\n",
       "      <td>play</td>\n",
       "      <td>-0.029992</td>\n",
       "      <td>0</td>\n",
       "      <td>7</td>\n",
       "    </tr>\n",
       "    <tr>\n",
       "      <th>199973</th>\n",
       "      <td>128470551</td>\n",
       "      <td>Arma 2 DayZ Mod</td>\n",
       "      <td>play</td>\n",
       "      <td>-0.117201</td>\n",
       "      <td>0</td>\n",
       "      <td>280</td>\n",
       "    </tr>\n",
       "    <tr>\n",
       "      <th>199975</th>\n",
       "      <td>128470551</td>\n",
       "      <td>Antichamber</td>\n",
       "      <td>play</td>\n",
       "      <td>-0.139875</td>\n",
       "      <td>0</td>\n",
       "      <td>293</td>\n",
       "    </tr>\n",
       "    <tr>\n",
       "      <th>199977</th>\n",
       "      <td>128470551</td>\n",
       "      <td>Risk of Rain</td>\n",
       "      <td>play</td>\n",
       "      <td>-0.145980</td>\n",
       "      <td>0</td>\n",
       "      <td>247</td>\n",
       "    </tr>\n",
       "    <tr>\n",
       "      <th>199979</th>\n",
       "      <td>128470551</td>\n",
       "      <td>OlliOlli</td>\n",
       "      <td>play</td>\n",
       "      <td>-0.166038</td>\n",
       "      <td>0</td>\n",
       "      <td>2133</td>\n",
       "    </tr>\n",
       "    <tr>\n",
       "      <th>199981</th>\n",
       "      <td>128470551</td>\n",
       "      <td>Hammerwatch</td>\n",
       "      <td>play</td>\n",
       "      <td>-0.173451</td>\n",
       "      <td>0</td>\n",
       "      <td>393</td>\n",
       "    </tr>\n",
       "    <tr>\n",
       "      <th>199983</th>\n",
       "      <td>128470551</td>\n",
       "      <td>Torchlight II</td>\n",
       "      <td>play</td>\n",
       "      <td>-0.200485</td>\n",
       "      <td>0</td>\n",
       "      <td>657</td>\n",
       "    </tr>\n",
       "    <tr>\n",
       "      <th>199985</th>\n",
       "      <td>128470551</td>\n",
       "      <td>Nether</td>\n",
       "      <td>play</td>\n",
       "      <td>-0.200922</td>\n",
       "      <td>0</td>\n",
       "      <td>1994</td>\n",
       "    </tr>\n",
       "    <tr>\n",
       "      <th>199987</th>\n",
       "      <td>128470551</td>\n",
       "      <td>Rogue Legacy</td>\n",
       "      <td>play</td>\n",
       "      <td>-0.201794</td>\n",
       "      <td>0</td>\n",
       "      <td>129</td>\n",
       "    </tr>\n",
       "    <tr>\n",
       "      <th>199989</th>\n",
       "      <td>128470551</td>\n",
       "      <td>Mortal Kombat Komplete Edition</td>\n",
       "      <td>play</td>\n",
       "      <td>-0.202230</td>\n",
       "      <td>0</td>\n",
       "      <td>986</td>\n",
       "    </tr>\n",
       "    <tr>\n",
       "      <th>199991</th>\n",
       "      <td>128470551</td>\n",
       "      <td>Fallen Earth</td>\n",
       "      <td>play</td>\n",
       "      <td>-0.202666</td>\n",
       "      <td>0</td>\n",
       "      <td>29</td>\n",
       "    </tr>\n",
       "    <tr>\n",
       "      <th>199993</th>\n",
       "      <td>128470551</td>\n",
       "      <td>Magic Duels</td>\n",
       "      <td>play</td>\n",
       "      <td>-0.203538</td>\n",
       "      <td>0</td>\n",
       "      <td>1828</td>\n",
       "    </tr>\n",
       "    <tr>\n",
       "      <th>199995</th>\n",
       "      <td>128470551</td>\n",
       "      <td>Titan Souls</td>\n",
       "      <td>play</td>\n",
       "      <td>-0.206590</td>\n",
       "      <td>0</td>\n",
       "      <td>2049</td>\n",
       "    </tr>\n",
       "    <tr>\n",
       "      <th>199997</th>\n",
       "      <td>128470551</td>\n",
       "      <td>Grand Theft Auto Vice City</td>\n",
       "      <td>play</td>\n",
       "      <td>-0.206590</td>\n",
       "      <td>0</td>\n",
       "      <td>1073</td>\n",
       "    </tr>\n",
       "    <tr>\n",
       "      <th>199999</th>\n",
       "      <td>128470551</td>\n",
       "      <td>RUSH</td>\n",
       "      <td>play</td>\n",
       "      <td>-0.207026</td>\n",
       "      <td>0</td>\n",
       "      <td>644</td>\n",
       "    </tr>\n",
       "  </tbody>\n",
       "</table>\n",
       "</div>"
      ],
      "text/plain": [
       "          user_id                            name purchase     hours  0  \\\n",
       "199969  128470551    The Binding of Isaac Rebirth     play  1.055763  0   \n",
       "199971  128470551                   Path of Exile     play -0.029992  0   \n",
       "199973  128470551                 Arma 2 DayZ Mod     play -0.117201  0   \n",
       "199975  128470551                     Antichamber     play -0.139875  0   \n",
       "199977  128470551                    Risk of Rain     play -0.145980  0   \n",
       "199979  128470551                        OlliOlli     play -0.166038  0   \n",
       "199981  128470551                     Hammerwatch     play -0.173451  0   \n",
       "199983  128470551                   Torchlight II     play -0.200485  0   \n",
       "199985  128470551                          Nether     play -0.200922  0   \n",
       "199987  128470551                    Rogue Legacy     play -0.201794  0   \n",
       "199989  128470551  Mortal Kombat Komplete Edition     play -0.202230  0   \n",
       "199991  128470551                    Fallen Earth     play -0.202666  0   \n",
       "199993  128470551                     Magic Duels     play -0.203538  0   \n",
       "199995  128470551                     Titan Souls     play -0.206590  0   \n",
       "199997  128470551      Grand Theft Auto Vice City     play -0.206590  0   \n",
       "199999  128470551                            RUSH     play -0.207026  0   \n",
       "\n",
       "        game_id  \n",
       "199969      501  \n",
       "199971        7  \n",
       "199973      280  \n",
       "199975      293  \n",
       "199977      247  \n",
       "199979     2133  \n",
       "199981      393  \n",
       "199983      657  \n",
       "199985     1994  \n",
       "199987      129  \n",
       "199989      986  \n",
       "199991       29  \n",
       "199993     1828  \n",
       "199995     2049  \n",
       "199997     1073  \n",
       "199999      644  "
      ]
     },
     "execution_count": 176,
     "metadata": {},
     "output_type": "execute_result"
    }
   ],
   "source": [
    "ratings[ratings['user_id']==128470551]"
   ]
  },
  {
   "cell_type": "code",
   "execution_count": 287,
   "metadata": {},
   "outputs": [],
   "source": [
    "import difflib\n",
    "import random\n",
    "\n",
    "def get_game_id(game_title, name_id_dict):\n",
    "    closest_title = difflib.get_close_matches(game_title, name_id_dict.keys(), n=1)\n",
    "    if closest_title:\n",
    "        return name_id_dict[closest_title[0]], closest_title[0]\n",
    "    else:\n",
    "        print(f\"El juego {game_title} no fue reconocido. Perdón.\")\n",
    "        return None, None\n",
    "\n",
    "def predict_review(user_id, game_title, model, name_id_dict):\n",
    "    game_id, _ = get_game_id(game_title, name_id_dict)\n",
    "    if game_id is not None:\n",
    "        review_prediction = model.predict(uid=user_id, iid=game_id)\n",
    "        return review_prediction.est\n",
    "    else:\n",
    "        return None\n",
    "\n",
    "def generate_recommendation(user_id, model, name_id_dict, thresh=1):\n",
    "    game_titles = list(name_id_dict.keys())\n",
    "    random.shuffle(game_titles)\n",
    "\n",
    "    recomenation = []\n",
    "\n",
    "    for game_title in game_titles:\n",
    "        rating = predict_review(user_id, game_title, model, name_id_dict)\n",
    "        if rating is not None and rating >= thresh:\n",
    "            recomenation.append(game_title)\n",
    "    print(recomenation)"
   ]
  },
  {
   "cell_type": "code",
   "execution_count": 288,
   "metadata": {},
   "outputs": [
    {
     "name": "stdout",
     "output_type": "stream",
     "text": [
      "['Rescue Team 5', 'Space Empires V', 'Mount & Blade', 'The Treasures of Montezuma 4']\n"
     ]
    }
   ],
   "source": [
    "rec = generate_recommendation(128470551, svd,name_id_dict)"
   ]
  },
  {
   "cell_type": "markdown",
   "metadata": {},
   "source": [
    "# Deploy\n",
    "\n",
    "Haremos el deploy con Streamlit"
   ]
  },
  {
   "cell_type": "code",
   "execution_count": null,
   "metadata": {},
   "outputs": [],
   "source": [
    "#%pip install pipreqs"
   ]
  },
  {
   "cell_type": "code",
   "execution_count": 296,
   "metadata": {},
   "outputs": [
    {
     "name": "stderr",
     "output_type": "stream",
     "text": [
      "Traceback (most recent call last):\n",
      "  File \"c:\\Users\\Usuario\\miniconda3\\envs\\itba_apa_env\\lib\\site-packages\\requests\\compat.py\", line 11, in <module>\n",
      "    import chardet\n",
      "ModuleNotFoundError: No module named 'chardet'\n",
      "\n",
      "During handling of the above exception, another exception occurred:\n",
      "\n",
      "Traceback (most recent call last):\n",
      "  File \"c:\\Users\\Usuario\\miniconda3\\envs\\itba_apa_env\\lib\\runpy.py\", line 194, in _run_module_as_main\n",
      "    return _run_code(code, main_globals, None,\n",
      "  File \"c:\\Users\\Usuario\\miniconda3\\envs\\itba_apa_env\\lib\\runpy.py\", line 87, in _run_code\n",
      "    exec(code, run_globals)\n",
      "  File \"C:\\Users\\Usuario\\miniconda3\\envs\\itba_apa_env\\Scripts\\pipreqs.exe\\__main__.py\", line 4, in <module>\n",
      "  File \"c:\\Users\\Usuario\\miniconda3\\envs\\itba_apa_env\\lib\\site-packages\\pipreqs\\pipreqs.py\", line 47, in <module>\n",
      "    import requests\n",
      "  File \"c:\\Users\\Usuario\\miniconda3\\envs\\itba_apa_env\\lib\\site-packages\\requests\\__init__.py\", line 45, in <module>\n",
      "    from .exceptions import RequestsDependencyWarning\n",
      "  File \"c:\\Users\\Usuario\\miniconda3\\envs\\itba_apa_env\\lib\\site-packages\\requests\\exceptions.py\", line 9, in <module>\n",
      "    from .compat import JSONDecodeError as CompatJSONDecodeError\n",
      "  File \"c:\\Users\\Usuario\\miniconda3\\envs\\itba_apa_env\\lib\\site-packages\\requests\\compat.py\", line 13, in <module>\n",
      "    import charset_normalizer as chardet\n",
      "  File \"c:\\Users\\Usuario\\miniconda3\\envs\\itba_apa_env\\lib\\site-packages\\charset_normalizer\\__init__.py\", line 24, in <module>\n",
      "    from .api import from_bytes, from_fp, from_path, is_binary\n",
      "  File \"c:\\Users\\Usuario\\miniconda3\\envs\\itba_apa_env\\lib\\site-packages\\charset_normalizer\\api.py\", line 5, in <module>\n",
      "    from .cd import (\n",
      "  File \"c:\\Users\\Usuario\\miniconda3\\envs\\itba_apa_env\\lib\\site-packages\\charset_normalizer\\cd.py\", line 14, in <module>\n",
      "    from .md import is_suspiciously_successive_range\n",
      "  File \"charset_normalizer\\md.py\", line 10, in <module>\n",
      "ImportError: cannot import name 'is_ascii' from 'charset_normalizer.utils' (c:\\Users\\Usuario\\miniconda3\\envs\\itba_apa_env\\lib\\site-packages\\charset_normalizer\\utils.py)\n"
     ]
    }
   ],
   "source": [
    "#!pipreqs ."
   ]
  },
  {
   "cell_type": "code",
   "execution_count": null,
   "metadata": {},
   "outputs": [],
   "source": [
    "#%pip install streamlit"
   ]
  },
  {
   "cell_type": "code",
   "execution_count": null,
   "metadata": {},
   "outputs": [],
   "source": [
    "#%pip install flask\n"
   ]
  },
  {
   "cell_type": "code",
   "execution_count": 297,
   "metadata": {},
   "outputs": [
    {
     "name": "stdout",
     "output_type": "stream",
     "text": [
      "Note: you may need to restart the kernel to use updated packages.\n"
     ]
    },
    {
     "name": "stderr",
     "output_type": "stream",
     "text": [
      "ERROR: Could not find a version that satisfies the requirement pickle (from versions: none)\n",
      "ERROR: No matching distribution found for pickle\n"
     ]
    }
   ],
   "source": [
    "#%pip install pickle"
   ]
  },
  {
   "cell_type": "code",
   "execution_count": 299,
   "metadata": {},
   "outputs": [],
   "source": [
    "import pickle\n",
    "with open('./Data/gower.pkl', 'wb') as f_gower:\n",
    "    pickle.dump(gower_dist_df,f_gower)\n",
    "with open('./Data/metadata.pkl', 'wb') as f_metadata:\n",
    "    pickle.dump(metadata_selected,f_metadata)"
   ]
  },
  {
   "cell_type": "code",
   "execution_count": null,
   "metadata": {},
   "outputs": [],
   "source": [
    "from flask import Flask\n",
    "\n",
    "app = Flask('recsys_gower')\n",
    "\n"
   ]
  }
 ],
 "metadata": {
  "kernelspec": {
   "display_name": "Python 3 (ipykernel)",
   "language": "python",
   "name": "python3"
  },
  "language_info": {
   "codemirror_mode": {
    "name": "ipython",
    "version": 3
   },
   "file_extension": ".py",
   "mimetype": "text/x-python",
   "name": "python",
   "nbconvert_exporter": "python",
   "pygments_lexer": "ipython3",
   "version": "3.8.17"
  }
 },
 "nbformat": 4,
 "nbformat_minor": 5
}
